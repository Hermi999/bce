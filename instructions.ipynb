{
 "cells": [
  {
   "cell_type": "markdown",
   "metadata": {},
   "source": [
    "# Beyond Corp Enterprise - Demo\n",
    "\n",
    "The following notebook is used to guide you through setting up Beyond Corp Enterprise (BCE) on Google Cloud Platform (GCP). "
   ]
  },
  {
   "cell_type": "markdown",
   "metadata": {},
   "source": [
    "## How to use this colab notebook\n",
    "\n",
    "*   **You can use this notebook either as a reference and copy the commands directly into GCP Cloud Shell, or you use it with a Jupyter Notebook with a bash kernel.**\n",
    "*   If you like to execute a block use STRG+ENTER\n",
    "*   If you just want to run highlighted commands use STRG+SHIFT+ENTER"
   ]
  },
  {
   "cell_type": "markdown",
   "metadata": {},
   "source": [
    "## Getting ready\n",
    "Let's try it out by checking the version of the gcloud sdk. Click into the next line and press STRG+ENTER"
   ]
  },
  {
   "cell_type": "code",
   "execution_count": 1,
   "metadata": {},
   "outputs": [
    {
     "name": "stdout",
     "output_type": "stream",
     "text": [
      "Google Cloud SDK 317.0.0\n",
      "alpha 2020.10.30\n",
      "beta 2020.10.30\n",
      "bq 2.0.62\n",
      "core 2020.10.30\n",
      "gsutil 4.54\n",
      "kubectl 1.16.13\n"
     ]
    }
   ],
   "source": [
    "gcloud version"
   ]
  },
  {
   "cell_type": "markdown",
   "metadata": {},
   "source": [
    "We do not need to authenticate ourselfs to run gcloud commands. It automatically uses the Compute Engine Service Account which was copied onto the VM during creation.\n",
    "\n",
    "You can check this by running the command:"
   ]
  },
  {
   "cell_type": "code",
   "execution_count": 2,
   "metadata": {},
   "outputs": [
    {
     "name": "stdout",
     "output_type": "stream",
     "text": [
      "                       Credentialed Accounts\n",
      "ACTIVE  ACCOUNT\n",
      "*       bce-project-editor@hewagner-demos-2.iam.gserviceaccount.com\n",
      "\n",
      "To set the active account, run:\n",
      "    $ gcloud config set account `ACCOUNT`\n",
      "\n"
     ]
    }
   ],
   "source": [
    "gcloud auth list"
   ]
  },
  {
   "cell_type": "markdown",
   "metadata": {},
   "source": [
    "This Service Account should have all necessary rights to proceed."
   ]
  },
  {
   "cell_type": "markdown",
   "metadata": {},
   "source": [
    "We also double check if we are in the right project:"
   ]
  },
  {
   "cell_type": "code",
   "execution_count": 3,
   "metadata": {},
   "outputs": [
    {
     "name": "stdout",
     "output_type": "stream",
     "text": [
      "PROJECT_ID        NAME              PROJECT_NUMBER\n",
      "hewagner-demos-2  hewagner-demos-2  1023990209690\n"
     ]
    }
   ],
   "source": [
    "gcloud projects list"
   ]
  },
  {
   "cell_type": "markdown",
   "metadata": {},
   "source": [
    "If the project is wrong you can set your project with 'gcloud config set project [project_name]."
   ]
  },
  {
   "cell_type": "markdown",
   "metadata": {},
   "source": [
    "## Deploy a first sample application\n",
    "We start with a first sample application on GCP. \n",
    "For this we will use the __App Engine__, which was the first GCP service (2008) and is a PaaS for hosting web applications. \n",
    "\n",
    "Our Git repository we cloned onto this machine contains an App Engine sample code."
   ]
  },
  {
   "cell_type": "code",
   "execution_count": 4,
   "metadata": {},
   "outputs": [
    {
     "name": "stdout",
     "output_type": "stream",
     "text": [
      "app.yaml  main.py  main_test.py\n"
     ]
    }
   ],
   "source": [
    "cd ~/bce/samples/appengine\n",
    "ls"
   ]
  },
  {
   "cell_type": "markdown",
   "metadata": {},
   "source": [
    "Now we can deploy the simple sample to App Engine:"
   ]
  },
  {
   "cell_type": "code",
   "execution_count": 14,
   "metadata": {},
   "outputs": [
    {
     "name": "stdout",
     "output_type": "stream",
     "text": [
      "You are creating an app for project [hewagner-demos-2].\n",
      "\u001b[1;33mWARNING:\u001b[0m Creating an App Engine application for a project is irreversible and the region\n",
      "cannot be changed. More information about regions is at\n",
      "<https://cloud.google.com/appengine/docs/locations>.\n",
      "\n",
      "\u001b[1;31mERROR:\u001b[0m (gcloud.app.create) The project [hewagner-demos-2] already contains an App Engine application. You can deploy your application using `gcloud app deploy`.\n"
     ]
    },
    {
     "ename": "",
     "evalue": "1",
     "output_type": "error",
     "traceback": []
    }
   ],
   "source": [
    "gcloud app create --region=europe-west3"
   ]
  },
  {
   "cell_type": "markdown",
   "metadata": {},
   "source": [
    "Wait until you see the message gcloud app browse"
   ]
  },
  {
   "cell_type": "code",
   "execution_count": 18,
   "metadata": {},
   "outputs": [
    {
     "name": "stdout",
     "output_type": "stream",
     "text": [
      "Services to deploy:\n",
      "\n",
      "descriptor:      [/home/jupyter/bce/samples/appengine/app.yaml]\n",
      "source:          [/home/jupyter/bce/samples/appengine]\n",
      "target project:  [hewagner-demos-2]\n",
      "target service:  [default]\n",
      "target version:  [20201110t190726]\n",
      "target url:      [https://hewagner-demos-2.ey.r.appspot.com]\n",
      "\n",
      "\n",
      "Beginning deployment of service [default]...\n",
      "╔════════════════════════════════════════════════════════════╗\n",
      "╠═ Uploading 0 files to Google Cloud Storage                ═╣\n",
      "╚════════════════════════════════════════════════════════════╝\n",
      "File upload done.\n",
      "Updating service [default]...done.                                             \n",
      "Setting traffic split for service [default]...done.                            \n",
      "Deployed service [default] to [https://hewagner-demos-2.ey.r.appspot.com]\n",
      "\n",
      "You can stream logs from the command line by running:\n",
      "  $ gcloud app logs tail -s default\n",
      "\n",
      "To view your application in the web browser run:\n",
      "  $ gcloud app browse\n"
     ]
    }
   ],
   "source": [
    "gcloud app deploy --quiet"
   ]
  },
  {
   "cell_type": "code",
   "execution_count": 19,
   "metadata": {},
   "outputs": [
    {
     "name": "stdout",
     "output_type": "stream",
     "text": [
      "Did not detect your browser. Go to this link to view your app:\n",
      "https://hewagner-demos-2.ey.r.appspot.com\n"
     ]
    }
   ],
   "source": [
    "gcloud app browse"
   ]
  },
  {
   "cell_type": "markdown",
   "metadata": {},
   "source": [
    "When you follow the link you should see an empty website with a simple sign in link.\n",
    "Now that we have our app running it's time to secure it with Identity-aware proxy.\n",
    "\n",
    "## Secure the simple Web App"
   ]
  }
 ],
 "metadata": {
  "environment": {
   "name": "common-cpu.m59",
   "type": "gcloud",
   "uri": "gcr.io/deeplearning-platform-release/base-cpu:m59"
  },
  "kernelspec": {
   "display_name": "Bash",
   "language": "bash",
   "name": "bash"
  },
  "language_info": {
   "codemirror_mode": "shell",
   "file_extension": ".sh",
   "mimetype": "text/x-sh",
   "name": "bash"
  }
 },
 "nbformat": 4,
 "nbformat_minor": 4
}
