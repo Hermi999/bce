{
 "cells": [
  {
   "cell_type": "markdown",
   "metadata": {},
   "source": [
    "_[Please follow the instructions [here](https://github.com/Hermi999/bce) to see how to properly use this bash-kernel Notebook]_\n",
    "\n",
    "__NOTE TO GOOGLERS:__ The Context-aware access part of this tutorial will not work in the __google.com GCP Organization__, as you do not have the rights to view/edit the access policies and levels.\n",
    "\n",
    "\n",
    "# Beyond Corp - Walkthrough\n",
    "\n",
    "The following notebook is used to guide you through setting up Beyond Corp on Google Cloud Platform (GCP). \n",
    "It contains the following use cases:\n",
    "- BeyondCorp (partial) [Gitops-setup](#Creating-access-levels) __[ready]__\n",
    "- BeyondCorp for [Google App Engine web applications](#Deploy-a-first-sample-application) __[ready]__\n",
    "- BeyondCorp for [Compute Engine web applications](#Setup-BeyondCorp-for-GCE-Apps) __[ready]__\n",
    "- BeyondCorp for [GKE web applications](#Setup-BeyondCorp-for-GKE-Apps) __[work in progress]__\n",
    "- BeyondCorp for internal on-premise (or other Cloud) web applications __[work in progress]__\n",
    "- BeyondCorp for external on-premise (or other Cloud) web applications __[work in progress]__\n",
    "- BeyondCorp for TCP forwarding __[work in progress]__"
   ]
  },
  {
   "cell_type": "markdown",
   "metadata": {},
   "source": [
    "## Context\n",
    "As more employees work from home, it is important to provide more options for them to securely access internal services and sites.\n",
    "These sites may be your intranet portal, sensitive HR or financial systems that are not exposed directly externally. Traditionally, companies accessed these sites after establishing a VPN tunnel from an employee’s laptop directly to the corporate network. Just about any administrator of such a system will tell you VPNs are expensive to procure, require a lot of resources, quite cumbersome to maintain and essentially provide security based on dynamically expanding the trusted network.\n",
    "\n",
    "At Google, we found the access model based primarily on a network perimeter did not sufficiently scale with a mobile workforce nor provide selective security guarantees for sensitive applications. Our approach was to assess the overall context of a given request for an application. By that we would take signals derived from multiple sources at runtime to evaluate the integrity of a call against the resource being accessed. For example, the evaluation signals for a request would include who is making the call, from what device, from what network, at what time, and so on. A request is not simply evaluated using an administrator defined static if-then chain, but also assigned trust levels based on heuristics inferred from prior contexts.\n",
    "\n",
    "The internal system Google used to achieve this is described in six BeyondCorp research papers which goes into more details about these signals. For our customers we make this same system available as __BeyondCorp (BCE).__\n",
    "\n",
    "As you can see on the image below, BCE consists of multiple components:\n",
    "- Cloud Identity\n",
    "- Identity Aware proxy\n",
    "- Google Cloud Load Balancer\n",
    "- Access Context Manager\n",
    "- IAP Connector\n",
    "\n",
    "![BCE](https://github.com/Hermi999/bce/blob/master/img/bce.png?raw=true)"
   ]
  },
  {
   "cell_type": "markdown",
   "metadata": {},
   "source": [
    "## How to use this colab notebook\n",
    "\n",
    "*   If you didn't start at following Github Repository, please start there to see how you can use this bash-kernel based notebook: https://github.com/Hermi999/bce\n",
    "*   **You can use this notebook either as a reference and copy the commands directly into GCP Cloud Shell, or you use it with a Jupyter Notebook with a bash kernel.**\n",
    "*   If you like to execute a block use STRG+ENTER\n",
    "*   If you just want to run highlighted commands use STRG+SHIFT+ENTER"
   ]
  },
  {
   "cell_type": "markdown",
   "metadata": {},
   "source": [
    "## Getting ready\n",
    "Let's start by checking the version of the gcloud sdk. Click into the next line and press STRG+ENTER"
   ]
  },
  {
   "cell_type": "code",
   "execution_count": null,
   "metadata": {},
   "outputs": [],
   "source": [
    "gcloud version"
   ]
  },
  {
   "cell_type": "markdown",
   "metadata": {},
   "source": [
    "We do not need to authenticate ourselfs to run gcloud commands. It automatically uses the Compute Engine Service Account which was copied onto the VM during creation.\n",
    "\n",
    "You can check this by running the command:"
   ]
  },
  {
   "cell_type": "code",
   "execution_count": null,
   "metadata": {},
   "outputs": [],
   "source": [
    "gcloud auth list"
   ]
  },
  {
   "cell_type": "markdown",
   "metadata": {},
   "source": [
    "This Service Account should have all necessary rights to proceed."
   ]
  },
  {
   "cell_type": "markdown",
   "metadata": {},
   "source": [
    "We also double check if we are in the right project:"
   ]
  },
  {
   "cell_type": "code",
   "execution_count": null,
   "metadata": {},
   "outputs": [],
   "source": [
    "gcloud projects list"
   ]
  },
  {
   "cell_type": "markdown",
   "metadata": {},
   "source": [
    "If the project is wrong you can set your project with 'gcloud config set project [project_name]."
   ]
  },
  {
   "cell_type": "markdown",
   "metadata": {},
   "source": [
    "## Deploy a first sample application\n",
    "We start with a first sample application on GCP. \n",
    "For this we will use the __App Engine__, which was the first GCP service (2008) and is a PaaS for hosting web applications. \n",
    "\n",
    "Our Git repository we cloned onto this machine contains an App Engine sample code. "
   ]
  },
  {
   "cell_type": "code",
   "execution_count": null,
   "metadata": {},
   "outputs": [],
   "source": [
    "cd ~/bce/samples/appengine\n",
    "ls"
   ]
  },
  {
   "cell_type": "markdown",
   "metadata": {},
   "source": [
    "Now we can deploy the simple sample to App Engine:"
   ]
  },
  {
   "cell_type": "code",
   "execution_count": null,
   "metadata": {},
   "outputs": [],
   "source": [
    "gcloud app create --region=europe-west3"
   ]
  },
  {
   "cell_type": "markdown",
   "metadata": {},
   "source": [
    "Wait until you see the message gcloud app browse"
   ]
  },
  {
   "cell_type": "code",
   "execution_count": null,
   "metadata": {},
   "outputs": [],
   "source": [
    "gcloud app deploy --quiet"
   ]
  },
  {
   "cell_type": "code",
   "execution_count": null,
   "metadata": {},
   "outputs": [],
   "source": [
    "gcloud app browse"
   ]
  },
  {
   "cell_type": "markdown",
   "metadata": {},
   "source": [
    "When you follow the link you should see an empty website with a simple sign in link.\n",
    "Now that we have our app running it's time to secure it with Identity-aware proxy.\n"
   ]
  },
  {
   "cell_type": "markdown",
   "metadata": {},
   "source": [
    "## Configure OAuth \n"
   ]
  },
  {
   "cell_type": "markdown",
   "metadata": {},
   "source": [
    "### The Consent Screen (=Brand)\n",
    "(https://cloud.google.com/iap/docs/programmatic-oauth-clients)\n",
    "\n",
    "Because IAP accesses Google users’ data (email address) you need to configure the OAuth.\n",
    "This needs to be done once per GCP Project. Typically you manage multiple on-prem or AWS/Azure web apps from the same projects, so it only need to be done rearily. \n",
    "\n",
    "The OAuth consent screen, which contains branding information for users, is known as a brand. Brands can be limited to internal users or public users. An __internal brand__ makes the OAuth flow accessible to someone who belongs to the same Google Workspace organization as the project. A __public brand__ makes the OAuth flow available to anyone on the internet. There is only one brand per GCP project.\n",
    "\n",
    "OAuth API verification is a little bit difficult to understand - read more about it here: https://support.google.com/cloud/answer/9110914\n",
    "\n",
    "Let's create our brand:"
   ]
  },
  {
   "cell_type": "code",
   "execution_count": null,
   "metadata": {},
   "outputs": [],
   "source": [
    "APP_TITLE=IAP_TEST\n",
    "SUPPORT_EMAIL=[enter your email]\n",
    "\n",
    "gcloud alpha iap oauth-brands create --application_title=$APP_TITLE --support_email=$SUPPORT_EMAIL"
   ]
  },
  {
   "cell_type": "markdown",
   "metadata": {},
   "source": [
    "The support email displayed on the OAuth consent screen. This email address can either be a user's address or a Google Groups alias.\n",
    "\n",
    "Now we can list our new brand and extract the Brand-ID:"
   ]
  },
  {
   "cell_type": "code",
   "execution_count": null,
   "metadata": {},
   "outputs": [],
   "source": [
    "gcloud alpha iap oauth-brands list\n",
    "BRAND=$(gcloud alpha iap oauth-brands list --format=\"value(name)\")\n",
    "\n",
    "echo \"BRAND: $BRAND\""
   ]
  },
  {
   "cell_type": "markdown",
   "metadata": {},
   "source": [
    "### The OAuth Client\n",
    "(https://cloud.google.com/iap/docs/programmatic-oauth-clients#creating_an_oauth_client)\n",
    "\n",
    "Now we create our OAuth Client for the IAP. You configure one OAuth client per app."
   ]
  },
  {
   "cell_type": "code",
   "execution_count": null,
   "metadata": {},
   "outputs": [],
   "source": [
    "CLIENT_NAME=iap\n",
    "PROJECT_ID=$(gcloud config get-value core/project)\n",
    "\n",
    "gcloud alpha iap oauth-clients create $BRAND --display_name=$CLIENT_NAME\n",
    "#gcloud alpha iap oauth-clients create projects/$PROJECT_ID/brands/1023990209690 --display_name=CLIENT_NAME"
   ]
  },
  {
   "cell_type": "markdown",
   "metadata": {},
   "source": [
    "Be aware that it's only possible to create oauth clients via gcloud if the brand is __internal__. Otherwise you have to use the GUI.\n",
    "\n",
    "Now we enable IAP for the web service. Fill in the client_id and secret from the previous step:"
   ]
  },
  {
   "cell_type": "code",
   "execution_count": null,
   "metadata": {},
   "outputs": [],
   "source": [
    "CLIENT_ID=\n",
    "SECRET=\n",
    "gcloud alpha iap web enable --resource-type=app-engine --oauth2-client-id=$CLIENT_ID --oauth2-client-secret=$SECRET"
   ]
  },
  {
   "cell_type": "markdown",
   "metadata": {},
   "source": [
    "Now we have activated IAP for the App Engine App. This means that we do not have access any more..."
   ]
  },
  {
   "cell_type": "code",
   "execution_count": null,
   "metadata": {},
   "outputs": [],
   "source": [
    "gcloud app browse"
   ]
  },
  {
   "cell_type": "markdown",
   "metadata": {},
   "source": [
    "## Creating access levels\n",
    "https://cloud.google.com/access-context-manager/docs/overview\n",
    "\n",
    "*__NOTE TO GOOGLERS:__ The Context-aware access part of this tutorial will not work in the google.com GCP Organization, as you do not have the rights to view/edit the access policies and levels.*\n",
    "\n",
    "\n",
    "While Identity-Aware Proxy (IAP) lets you manage who has access to your web services, with __Access Context Manager__ you can define __when__ (in which circumstances) the request is allowed. Access Context Manager allows Google Cloud organization administrators to define fine-grained, attribute based access control for projects and resources in Google Cloud.\n",
    "\n",
    "Administrators first define an __access policy__, which is an organization-wide container for __access levels__.\n",
    "Access levels describe the necessary requirements for requests to be honored. Examples include:\n",
    "- Device type and operating system\n",
    "- IP address\n",
    "- User identity\n",
    "- Device Type (you need a BeyondCorp or Cloud Identity Premium license)\n"
   ]
  },
  {
   "cell_type": "markdown",
   "metadata": {},
   "source": [
    "### Use GitOps for Access Levels\n",
    "We could create access levels via the GCP Console UI, but that's too easy :) Instead we want to set up a GitOps-based approach for our access levels. This makes it easy to track changes and approve changes which can be submitted via a __merge request__."
   ]
  },
  {
   "cell_type": "markdown",
   "metadata": {},
   "source": [
    "#### Create the access policy\n",
    "First we can [create an access policy](https://cloud.google.com/access-context-manager/docs/create-access-policy) for __Access Context Manager__. 1 Organization can only have 1 access policy:"
   ]
  },
  {
   "cell_type": "code",
   "execution_count": null,
   "metadata": {},
   "outputs": [],
   "source": [
    "POLICY_TITLE=\"my_org_policy\"\n",
    "PROJECT_ID=$(gcloud config get-value core/project)\n",
    "ORG_ID=$(gcloud projects describe $PROJECT_ID --format=\"value(parent.id)\")\n",
    "\n",
    "gcloud access-context-manager policies create --organization $ORG_ID --title $POLICY_TITLE"
   ]
  },
  {
   "cell_type": "markdown",
   "metadata": {},
   "source": [
    "#### Define Access levels\n",
    "\n",
    "https://cloud.google.com/access-context-manager/docs/create-basic-access-level\n",
    "\n",
    "Now let's have a look at the example access context manager __access level policies__ I've prepared for you. For this exercise I just created 2 simple policies:\n",
    "\n",
    "__Low Trust (lowtrust.yaml):__\n",
    "Simply checks if the users accesses the app from one of the following 3 countries: Austria, Italy or Germany.\n",
    "\n",
    "__High Trust (hightrust.yaml):__\n",
    "Build upon the Low Trust policy, but additionally limits access to the CIDR: 80.110.0.0/16"
   ]
  },
  {
   "cell_type": "code",
   "execution_count": null,
   "metadata": {},
   "outputs": [],
   "source": [
    "cat ~/bce/accesscontextmngr/lowtrust.yaml"
   ]
  },
  {
   "cell_type": "code",
   "execution_count": null,
   "metadata": {},
   "outputs": [],
   "source": [
    "cat ~/bce/accesscontextmngr/hightrust.yaml"
   ]
  },
  {
   "cell_type": "markdown",
   "metadata": {},
   "source": [
    "I also included a more complex example which includes specific device policies. We will not use this for our exercise here because you need to have a BeyondCorp license or Cloud Identity Premium. Still let's have a closer look at it:"
   ]
  },
  {
   "cell_type": "code",
   "execution_count": null,
   "metadata": {},
   "outputs": [],
   "source": [
    "cat ~/bce/accesscontextmngr/complex.yaml"
   ]
  },
  {
   "cell_type": "markdown",
   "metadata": {},
   "source": [
    "----------------------------------------------------------------\n",
    "As you can see, the access level policies are easy to create, read and can also be combined.\n",
    "\n",
    "We could now simply apply them with the following gcloud command:\n",
    "````bash\n",
    "gcloud access-context-manager levels create ...\n",
    "````\n",
    "\n",
    "But we don't do this now because we want to set up a Gitops-based pipeline to automatically deploy new access levels whenever the admin commits them to a git repository....\n",
    "\n",
    "If you still want to try already (because you can't wait) it out here are the commands:"
   ]
  },
  {
   "cell_type": "code",
   "execution_count": null,
   "metadata": {},
   "outputs": [],
   "source": [
    "ORG_ID=$(gcloud projects describe $PROJECT_ID --format=\"value(parent.id)\")\n",
    "POLICY_NAME=$(gcloud access-context-manager policies list --organization=$ORG_ID --format=\"value(NAME)\")\n",
    "cd ~/bce/accesscontextmngr\n",
    "gcloud access-context-manager levels create \"Low_Trust\" --basic-level-spec=lowtrust.yaml --combine-function=OR --policy=$POLICY_NAME --title=\"Low Trust\"\n",
    "# replace POLICY_ID with actual ID of the policy\n",
    "sed \"s/POLICY_ID/$POLICY_NAME/g\" hightrust.yaml > hightrust2.yaml\n",
    "gcloud access-context-manager levels create \"High_Trust\" --basic-level-spec=hightrust2.yaml --combine-function=OR --policy=$POLICY_NAME --title=\"High Trust\"\n",
    "\n",
    "# UI\n",
    "echo \"https://console.cloud.google.com/security/access-level?organizationId=$ORG_ID\""
   ]
  },
  {
   "cell_type": "markdown",
   "metadata": {},
   "source": [
    "In the UI it will look something like this:\n",
    "![](https://github.com/Hermi999/bce/blob/master/img/accesscontextmanager.png?raw=true)\n",
    "\n",
    "We can also export all access level policies, change them and then re-import them again:"
   ]
  },
  {
   "cell_type": "code",
   "execution_count": null,
   "metadata": {},
   "outputs": [],
   "source": [
    "# Export all\n",
    "gcloud access-context-manager levels list --policy $POLICY_NAME --format=json > all.json"
   ]
  },
  {
   "cell_type": "markdown",
   "metadata": {},
   "source": [
    "Now you can open and modify the file...\n",
    "\n",
    "... And then re-import all access level policies:"
   ]
  },
  {
   "cell_type": "code",
   "execution_count": null,
   "metadata": {},
   "outputs": [],
   "source": [
    "gcloud access-context-manager levels replace-all $POLICY_NAME --source-file=all.json"
   ]
  },
  {
   "cell_type": "markdown",
   "metadata": {},
   "source": [
    "If you created the access policies, let's clean up again:"
   ]
  },
  {
   "cell_type": "code",
   "execution_count": null,
   "metadata": {},
   "outputs": [],
   "source": [
    "gcloud access-context-manager levels delete \"High_Trust\" --policy=$POLICY_NAME -q\n",
    "gcloud access-context-manager levels delete \"Low_Trust\" --policy=$POLICY_NAME -q"
   ]
  },
  {
   "cell_type": "markdown",
   "metadata": {},
   "source": [
    "#### Prepare access level renderer\n",
    "Now that we know how to deploy, update and delete access level policies, let's put those commands into a file so that we can use it for an automated deployment via a Gitops-based approach.\n",
    "\n",
    "While it's pretty straight forward to use gcloud to create, update and delete level policies, we have to think on how we can elegantly resolve levels which depend on each other. When we look at the hightrust.yaml file, we can see that the reference to the lowtrust level contains the policy ID:\n",
    "\n",
    "````bash\n",
    "...\n",
    "requiredAccessLevels:\n",
    "  - accessPolicies/POLICY_ID/accessLevels/Low_Trust\n",
    "````\n",
    "\n",
    "Now we could hard-code the Policy ID into our yaml files, but it's better to dynamically replace it before deploying the yaml to the environment. This makes sure that we don't need to adapt all our policy files when we use for another policy ID.\n",
    "\n",
    "Another problem is that the the level yaml spec files can't include the \"name\", \"title\", \"description\" and \"combine function\" and that we need to provide this information via the _gcloud access-context-manager levels create_ command. --> The question is how/where we can store this information in Git? \n",
    "\n",
    "For the moment (maybe there will be improvement of Context-aware access in future) it seems like we need to put this information into our yaml files and parse and remove this information before deploying with _gcloud access-context-manager levels create_. Interestingly, when we show an existing level policy with  __gcloud access-context-manager levels describe__ the level policy is already shown in a format containing the above mentioned attributes: \n",
    "\n",
    "````bash\n",
    "basic:\n",
    "  combiningFunction: OR\n",
    "  conditions:\n",
    "  - ipSubnetworks:\n",
    "    - 0.0.0.0/0\n",
    "  - regions:\n",
    "    - IT\n",
    "    - DE\n",
    "    - AT\n",
    "description: Low Trust Access Level\n",
    "name: accessPolicies/1082987218928/accessLevels/Low_Trust\n",
    "title: Low Trust\n",
    "````\n",
    "\n",
    "But atm we can't re-import an access level exported via the describe command (at least not that I know of). Still we can use exactly this format (maybe it's later possible to import directly using this format) to store our access levels and then render them into the format which is necessary at the moment + the corresponding gcloud command. So the yaml above will turn into:\n",
    "\n",
    "````bash\n",
    "- ipSubnetworks:\n",
    "  - 0.0.0.0/0\n",
    "- regions:\n",
    "  - IT\n",
    "  - DE\n",
    "  - AT\n",
    "````\n",
    "\n",
    "AND the following gcloud commands:\n",
    "\n",
    "````bash\n",
    "gcloud access-context-manager levels create accessPolicies/1082987218928/accessLevels/Low_Trust --basic-level-spec=lowtrust.yaml --combine-function=OR --title=\"Low Trust\" --description=\"Low Trust access level\"\n",
    "\n",
    "gcloud access-context-manager levels update accessPolicies/1082987218928/accessLevels/Low_Trust --basic-level-spec=lowtrust.yaml --combine-function=OR --title=\"Low Trust\" --description=\"Low Trust access level\"\n",
    "\n",
    "````\n",
    "\n",
    "Implementing this is pretty easy - Here is the code for Python:\n"
   ]
  },
  {
   "cell_type": "code",
   "execution_count": null,
   "metadata": {},
   "outputs": [],
   "source": [
    "cat ~/bce/accesscontextmngr/CD/p.py"
   ]
  },
  {
   "cell_type": "markdown",
   "metadata": {},
   "source": [
    "It...\n",
    "- parses all YAML files in the accesscontextmngr/CD folder\n",
    "- renders them into the official level spec file and stores them in accesscontextmngr/CD/rendered\n",
    "- creates the corresponding \"gcloud\" commands and stores them in the bash file create_update_levels.sh\n",
    "\n",
    "Let's try it our here locally in our Jupyter environment:"
   ]
  },
  {
   "cell_type": "code",
   "execution_count": null,
   "metadata": {},
   "outputs": [],
   "source": [
    "cd ~/bce/accesscontextmngr/CD\n",
    "python p.py\n",
    "echo \"done\""
   ]
  },
  {
   "cell_type": "markdown",
   "metadata": {},
   "source": [
    "Look at the resulting 3 files:"
   ]
  },
  {
   "cell_type": "code",
   "execution_count": null,
   "metadata": {},
   "outputs": [],
   "source": [
    "echo \"-------create_update_levels.sh--------\"\n",
    "cat create_update_levels.sh && echo \"-------High_Trust.yaml--------\"\n",
    "cat rendered/High_Trust.yaml && echo \"------Low_Trust.yaml---------\"\n",
    "cat rendered/Low_Trust.yaml"
   ]
  },
  {
   "cell_type": "markdown",
   "metadata": {},
   "source": [
    "We can see that the gcloud commands contain POLICY_ID. The pipeline needs to replace this later with the acutual ID.\n",
    "\n",
    "We delete the created files again before we continue:"
   ]
  },
  {
   "cell_type": "code",
   "execution_count": null,
   "metadata": {},
   "outputs": [],
   "source": [
    "rm -r rendered\n",
    "rm create_update_levels.sh\n",
    "echo \"done\""
   ]
  },
  {
   "cell_type": "markdown",
   "metadata": {},
   "source": [
    "#### Prepare Cloud Build file\n",
    "\n",
    "Now that we created a renderer for the access levels, we create the __cloudbuild.yaml__ file for [Google Cloud Build](https://cloud.google.com/cloud-build/). We use Cloud Build for automating our deployment, the cloudbuild.yaml file tells Cloud Build what to do. I've prepared it aleady for you:"
   ]
  },
  {
   "cell_type": "code",
   "execution_count": null,
   "metadata": {},
   "outputs": [],
   "source": [
    "cd ~/bce/accesscontextmngr\n",
    "cat cloudbuild.yaml"
   ]
  },
  {
   "cell_type": "markdown",
   "metadata": {},
   "source": [
    "It's fairly simple and just consists out of 2 steps:\n",
    "- execution of the python script (like we did above)\n",
    "- execution of the bash script which contains the create/update policy commands. The complicated looking \"sed\" command simply replaces the POLICY_ID with the actual policy ID for this organization\n",
    "\n",
    "You might have also noticed the __requirements.txt__ file. This one simple contains the dependencies for the p.py script:"
   ]
  },
  {
   "cell_type": "code",
   "execution_count": null,
   "metadata": {},
   "outputs": [],
   "source": [
    "cat requirements.txt"
   ]
  },
  {
   "cell_type": "markdown",
   "metadata": {},
   "source": [
    "#### Create the Continuious Deployment\n",
    "For simplicity we will use [Cloud Source Repositories](https://cloud.google.com/source-repositories) for setting up our Git-based deployment, but you can use any SCM tool you like (e.g. Bitbucket, Gitlab, Github, etc.).\n",
    "\n",
    "We start with copying the Access Level Config YAML files to a new folder and removing everything we don't need:"
   ]
  },
  {
   "cell_type": "code",
   "execution_count": null,
   "metadata": {},
   "outputs": [],
   "source": [
    "cp -r ~/bce/accesscontextmngr ~\n",
    "cd ~/accesscontextmngr/\n",
    "rm complex.yaml hightrust*.yaml lowtrust.yaml test.yaml\n",
    "echo \"done\""
   ]
  },
  {
   "cell_type": "markdown",
   "metadata": {},
   "source": [
    "Now let's create a new Cloud Source Repository:"
   ]
  },
  {
   "cell_type": "code",
   "execution_count": null,
   "metadata": {},
   "outputs": [],
   "source": [
    "ACM_NAME=\"acm_staging\"\n",
    "gcloud source repos create $ACM_NAME"
   ]
  },
  {
   "cell_type": "markdown",
   "metadata": {},
   "source": [
    "Now we initialize the new Git Repo and push the code from the local Git repository to the Cloud Source Repository we created in the previous step. Replace the __email__ and __name__:"
   ]
  },
  {
   "cell_type": "code",
   "execution_count": null,
   "metadata": {},
   "outputs": [],
   "source": [
    "YOUR_EMAIL=\"h@hewagner.com\"\n",
    "YOUR_NAME=\"Hermann Wagner\"\n",
    "git init\n",
    "git config --global user.email $YOUR_EMAIL\n",
    "git config --global user.name $YOUR_NAME\n",
    "git add -A\n",
    "git commit -am \"initial commit\"\n",
    "echo \"done\""
   ]
  },
  {
   "cell_type": "code",
   "execution_count": null,
   "metadata": {},
   "outputs": [],
   "source": [
    "git config --global credential.https://source.developers.google.com.helper gcloud.sh\n",
    "git remote add google https://source.developers.google.com/p/hewagner-demos-2/r/acm_staging\n",
    "git push --all google"
   ]
  },
  {
   "cell_type": "markdown",
   "metadata": {},
   "source": [
    "If you want you can have a look at it in the browser by opening the following link:"
   ]
  },
  {
   "cell_type": "code",
   "execution_count": null,
   "metadata": {},
   "outputs": [],
   "source": [
    "PROJECT_ID=$(gcloud config get-value core/project)\n",
    "echo \"https://source.cloud.google.com/$PROJECT_ID/$ACM_NAME\""
   ]
  },
  {
   "cell_type": "markdown",
   "metadata": {},
   "source": [
    "![](https://github.com/Hermi999/bce/blob/master/img/cloudsourcerepo.png?raw=true)\n",
    "\n",
    "What we want is that every time we do a commit to the master branch, our policies get automatically applied to the access context manager. \n",
    "\n",
    "For this we use [Cloud Build](https://cloud.google.com/cloud-build/) which get's triggered by a commit:"
   ]
  },
  {
   "cell_type": "code",
   "execution_count": null,
   "metadata": {},
   "outputs": [],
   "source": [
    "gcloud beta builds triggers create cloud-source-repositories \\\n",
    "    --repo=$ACM_NAME \\\n",
    "    --branch-pattern=\"master\" \\\n",
    "    --build-config=cloudbuild.yaml"
   ]
  },
  {
   "cell_type": "markdown",
   "metadata": {},
   "source": [
    "Now that we have our trigger we can make a small change and commit the change. This will trigger a new __Cloud build__ which will deploy our access level policies to __Access Context Manager__. \n",
    "\n",
    "Before we trigger the build, let's open Cloud build in the UI to see how it's executing the build once we trigger it:"
   ]
  },
  {
   "cell_type": "code",
   "execution_count": null,
   "metadata": {},
   "outputs": [],
   "source": [
    "PROJECT_ID=$(gcloud config get-value core/project)\n",
    "echo \"https://console.cloud.google.com/cloud-build/builds?project=$PROJECT_ID\""
   ]
  },
  {
   "cell_type": "markdown",
   "metadata": {},
   "source": [
    "After we execute the next step a new entry will appear in the table. You can click on the link in the \"Build\" column. "
   ]
  },
  {
   "cell_type": "code",
   "execution_count": null,
   "metadata": {},
   "outputs": [],
   "source": [
    "# update the ip of the hightrust level (just for making any change so that we can commit)\n",
    "sed -i \"s/80.110.0.0/80.111.0.0/g\" CD/hightrust.yaml\n",
    "git commit -am \"change IP for hightrust policy\"\n",
    "git push --all google"
   ]
  },
  {
   "cell_type": "markdown",
   "metadata": {},
   "source": [
    "Here is what you should see in the UI:\n",
    "![](https://github.com/Hermi999/bce/blob/master/img/cloudbuildhistory.png?raw=true)"
   ]
  },
  {
   "cell_type": "markdown",
   "metadata": {},
   "source": [
    "When you follow the link you see the details of the build:\n",
    "![](https://github.com/Hermi999/bce/blob/master/img/cloudbuilddetails.png?raw=true)"
   ]
  },
  {
   "cell_type": "markdown",
   "metadata": {},
   "source": [
    "We can also verify the result by looking into the UI for the access context manager:"
   ]
  },
  {
   "cell_type": "code",
   "execution_count": null,
   "metadata": {},
   "outputs": [],
   "source": [
    "PROJECT_ID=$(gcloud config get-value core/project)\n",
    "ORG_ID=$(gcloud projects describe $PROJECT_ID --format=\"value(parent.id)\")\n",
    "echo \"https://console.cloud.google.com/security/access-level?organizationId=$ORG_ID\""
   ]
  },
  {
   "cell_type": "markdown",
   "metadata": {},
   "source": [
    "We also test if we can update the new access levels:"
   ]
  },
  {
   "cell_type": "code",
   "execution_count": null,
   "metadata": {},
   "outputs": [],
   "source": [
    "sed -i \"s/80.111.0.0/80.110.0.0/g\" CD/hightrust.yaml\n",
    "sed -i \"s/IT/CZ/g\" CD/lowtrust.yaml\n",
    "git commit -am \"change IP of hightrust and replace Italy with Czech for lowtrust\"\n",
    "git push --all google"
   ]
  },
  {
   "cell_type": "markdown",
   "metadata": {},
   "source": [
    "In the next step we will combine IAP and Access-context manager to restrict access to our web app."
   ]
  },
  {
   "cell_type": "markdown",
   "metadata": {},
   "source": [
    "## Grant access on the application"
   ]
  },
  {
   "cell_type": "markdown",
   "metadata": {},
   "source": [
    "### Grant access without context-aware access\n",
    "The next step is to grant access to the protected app. \n",
    "We can do this on an individual user or group level and grant access to just a single app or to all apps in the whole project. First let's add yourself:"
   ]
  },
  {
   "cell_type": "code",
   "execution_count": null,
   "metadata": {},
   "outputs": [],
   "source": [
    "USER=\"h@hewagner.com\"\n",
    "gcloud iap web add-iam-policy-binding --member=\"user:$USER\" --role='roles/iap.httpsResourceAccessor'"
   ]
  },
  {
   "cell_type": "markdown",
   "metadata": {},
   "source": [
    "Wait about a minute and try to access the web app url:"
   ]
  },
  {
   "cell_type": "code",
   "execution_count": null,
   "metadata": {},
   "outputs": [],
   "source": [
    "gcloud app browse"
   ]
  },
  {
   "cell_type": "markdown",
   "metadata": {},
   "source": [
    "You should see a welcome message and your email address."
   ]
  },
  {
   "cell_type": "markdown",
   "metadata": {},
   "source": [
    "In the GUI it should look similar to this:\n",
    "![alt](https://github.com/Hermi999/bce/blob/master/img/iap.png?raw=true)\n",
    "\n",
    "Here are the links to have a look for yourself:"
   ]
  },
  {
   "cell_type": "code",
   "execution_count": null,
   "metadata": {},
   "outputs": [],
   "source": [
    "PROJECT_ID=$(gcloud config get-value core/project)\n",
    "ORG_ID=$(gcloud projects describe $PROJECT_ID --format=\"value(parent.id)\")\n",
    "echo \"https://console.cloud.google.com/security/iap?project=$PROJECT_ID\"\n",
    "echo \"https://console.cloud.google.com/security/access-level?orgonly=true&organizationId=$ORG_ID\""
   ]
  },
  {
   "cell_type": "markdown",
   "metadata": {},
   "source": [
    "### Grant access with context-aware access\n",
    "\n",
    "*__NOTE TO GOOGLERS:__ The Context-aware access part of this tutorial will not work in the __google.com GCP Organization__, as you do not have the rights to view/edit the access policies and levels.*\n",
    "\n",
    "\n",
    "Replace the USER emails with your email addresses:"
   ]
  },
  {
   "cell_type": "code",
   "execution_count": null,
   "metadata": {},
   "outputs": [],
   "source": [
    "USER1=h@hewagner.com\n",
    "USER2=a@hewagner.com\n",
    "LEV1=Low_Trust\n",
    "LEV2=High_Trust\n",
    "POL=$(gcloud access-context-manager policies list --organization=$ORG_ID --format=\"value(NAME)\")\n",
    "TITLE1=\"low trust\"\n",
    "TITLE2=\"high trust\"\n",
    "gcloud iap web add-iam-policy-binding --member=\"user:$USER1\" \\\n",
    "  --role='roles/iap.httpsResourceAccessor' \\\n",
    "  --condition=\"expression=(\\\"accessPolicies/$POL/accessLevels/$LEV1\\\" in request.auth.access_levels)\",title=\"$TITLE1\"\n",
    "\n",
    "gcloud iap web add-iam-policy-binding --member=\"user:$USER2\" \\\n",
    "  --role='roles/iap.httpsResourceAccessor' \\\n",
    "  --condition=\"expression=(\\\"accessPolicies/$POL/accessLevels/$LEV2\\\" in request.auth.access_levels)\",title=\"$TITLE2\""
   ]
  },
  {
   "cell_type": "markdown",
   "metadata": {},
   "source": [
    "![alt](https://github.com/Hermi999/bce/blob/master/img/caa-2.png?raw=true)"
   ]
  },
  {
   "cell_type": "markdown",
   "metadata": {},
   "source": [
    "## Setup BeyondCorp for GCE Apps\n",
    "\n",
    "(https://cloud.google.com/iap/docs/tutorial-gce)\n",
    "\n",
    "In this section, you will deploy a VM into Google Cloud that will run a simple __nginx__. webapp.\n",
    "In this flow, the request proceeds as: User -> IAP -> GCE backend\n",
    "\n",
    "We start with setting the environment variables:"
   ]
  },
  {
   "cell_type": "code",
   "execution_count": null,
   "metadata": {},
   "outputs": [],
   "source": [
    "PROJECT_ID=$(gcloud config get-value core/project)\n",
    "ZONE=europe-west1-b\n",
    "REGION=${ZONE%-[a-z]}\n",
    "VM_NAME=nginx-vm\n",
    "VPC=default\n",
    "VPC_SUBNET=default\n",
    "VPC_SUBNET_CIDR=`gcloud compute networks subnets describe $VPC --region=$REGION --format=\"value(ipCidrRange)\" --project $PROJECT_ID`\n",
    "\n",
    "echo $PROJECT_ID\n",
    "echo $ZONE\n",
    "echo $REGION\n",
    "echo $VPC_SUBNET_CIDR"
   ]
  },
  {
   "cell_type": "markdown",
   "metadata": {},
   "source": [
    "### NAT Gateway\n",
    "The Backend VM will NOT have external connectivity - So we need to set up a NAT Gateway to allow the VM pulling the nginx docker image:"
   ]
  },
  {
   "cell_type": "code",
   "execution_count": null,
   "metadata": {},
   "outputs": [],
   "source": [
    "gcloud compute routers create nat-router \\\n",
    "    --network $VPC \\\n",
    "    --region $REGION\n",
    "\n",
    "gcloud compute routers nats create nat-config \\\n",
    "    --router=nat-router \\\n",
    "    --auto-allocate-nat-external-ips \\\n",
    "    --nat-all-subnet-ip-ranges \\\n",
    "    --enable-logging --region=$REGION"
   ]
  },
  {
   "cell_type": "markdown",
   "metadata": {},
   "source": [
    "### Create VM\n",
    "The following steps starts a VM and runs nginx in a Container Optimized OS:"
   ]
  },
  {
   "cell_type": "code",
   "execution_count": null,
   "metadata": {},
   "outputs": [],
   "source": [
    "gcloud compute instances create-with-container $VM_NAME \\\n",
    "  --container-image nginx:latest \\\n",
    "  --no-address \\\n",
    "  --no-service-account \\\n",
    "  --no-scopes \\\n",
    "  --zone=$ZONE --project=$PROJECT_ID"
   ]
  },
  {
   "cell_type": "markdown",
   "metadata": {},
   "source": [
    "### Create unmanaged Instance Group and add VM"
   ]
  },
  {
   "cell_type": "code",
   "execution_count": null,
   "metadata": {},
   "outputs": [],
   "source": [
    "gcloud compute instance-groups unmanaged create gcp-uig --zone=$ZONE --project=$PROJECT_ID\n",
    "\n",
    "gcloud compute instance-groups unmanaged add-instances gcp-uig \\\n",
    "    --zone=$ZONE --project=$PROJECT_ID --instances=nginx-vm\n",
    "    \n",
    "gcloud compute instance-groups unmanaged set-named-ports gcp-uig \\\n",
    "    --zone=$ZONE --project=$PROJECT_ID --named-ports=http:80"
   ]
  },
  {
   "cell_type": "markdown",
   "metadata": {},
   "source": [
    "### Reserve an (global) external IP"
   ]
  },
  {
   "cell_type": "code",
   "execution_count": null,
   "metadata": {},
   "outputs": [],
   "source": [
    "gcloud compute addresses create iap-ip --global --project=$PROJECT_ID \n",
    "\n",
    "ADDRESS=`gcloud compute addresses describe iap-ip --global --format=\"value(address)\" --project=$PROJECT_ID`\n",
    "echo $ADDRESS"
   ]
  },
  {
   "cell_type": "markdown",
   "metadata": {},
   "source": [
    "### Manipulate /etc/hosts\n",
    "This tutorial we will not configure a real domain and a DNS server to resolve our external IP address. Instead we will later create a self-signed certificate for the domain __server.domain.com__. \n",
    "\n",
    "To resolve server.domain.com from this local JupyterLab VM we will simple add an entry to the /etc/hosts file. We can't do this here in the ipynb notebook, so you need to navigate in the menu bar to \"File\", \"New\", \"Terminal\". \n",
    "\n",
    "Then execute the field below, copy the result and insert it into the new terminal."
   ]
  },
  {
   "cell_type": "code",
   "execution_count": null,
   "metadata": {},
   "outputs": [],
   "source": [
    "echo \"sudo su\"\n",
    "echo \"echo $ADDRESS server.domain.com >> /etc/hosts\"\n",
    "echo \"exit\""
   ]
  },
  {
   "cell_type": "markdown",
   "metadata": {},
   "source": [
    "This added an entry to the hosts file. We can have a look at the results here:"
   ]
  },
  {
   "cell_type": "code",
   "execution_count": null,
   "metadata": {},
   "outputs": [],
   "source": [
    "cat /etc/hosts"
   ]
  },
  {
   "cell_type": "markdown",
   "metadata": {},
   "source": [
    "### Create Backend VIP"
   ]
  },
  {
   "cell_type": "code",
   "execution_count": null,
   "metadata": {},
   "outputs": [],
   "source": [
    "gcloud compute addresses create gce-backend-vip --region=$REGION \\\n",
    "--purpose GCE_ENDPOINT --project=$PROJECT_ID --subnet=$VPC\n",
    "\n",
    "gcloud compute addresses list --project=$PROJECT_ID"
   ]
  },
  {
   "cell_type": "markdown",
   "metadata": {},
   "source": [
    "We can see that wee have 3 reserved IP addresses (2 external and 1 internal)"
   ]
  },
  {
   "cell_type": "markdown",
   "metadata": {},
   "source": [
    "### Crate Firewall Rules and Health check"
   ]
  },
  {
   "cell_type": "code",
   "execution_count": null,
   "metadata": {},
   "outputs": [],
   "source": [
    "gcloud compute firewall-rules create allow-gcp-lb-http --allow=tcp:80 \\\n",
    "    --source-ranges=130.211.0.0/22,35.191.0.0/16  --project=$PROJECT_ID\n",
    "\n",
    "gcloud compute http-health-checks create http-basic-check --port 80 \\\n",
    "    --request-path=\"/\"  --project=$PROJECT_ID"
   ]
  },
  {
   "cell_type": "markdown",
   "metadata": {},
   "source": [
    "### Add instance group to backend service"
   ]
  },
  {
   "cell_type": "code",
   "execution_count": null,
   "metadata": {},
   "outputs": [],
   "source": [
    "gcloud compute backend-services create gcp-map-backend-service --global \\\n",
    "    --protocol HTTP --port-name=http --http-health-checks http-basic-check --project=$PROJECT_ID\n",
    "\n",
    "gcloud compute backend-services add-backend gcp-map-backend-service \\\n",
    "    --balancing-mode UTILIZATION \\\n",
    "    --max-utilization 0.8 \\\n",
    "    --capacity-scaler 1 \\\n",
    "    --instance-group gcp-uig --instance-group-zone $ZONE  --project=$PROJECT_ID --global\n"
   ]
  },
  {
   "cell_type": "markdown",
   "metadata": {},
   "source": [
    "### Upload SSL Certificate and configure L7 Load Balancer\n",
    "\n",
    "We will enable SSL on the L7 LoadBalancer and will NOT be using Google Managed SSL Certificates as that will require DNS resolution. In the following step, we will create a self-signed certificate and upload it:\n"
   ]
  },
  {
   "cell_type": "code",
   "execution_count": null,
   "metadata": {},
   "outputs": [],
   "source": [
    "mkdir ~/bce/certs/\n",
    "cd ~/bce/certs\n",
    "\n",
    "# create self-signed cert\n",
    "openssl req -x509 -newkey rsa:2048 -keyout server_key.pem -out server_crt.pem \\\n",
    "    -days 365 -nodes -subj '/CN=server.domain.com'\n",
    "    \n",
    "gcloud compute ssl-certificates create gcp-cert --certificate server_crt.pem \\\n",
    "    --private-key server_key.pem"
   ]
  },
  {
   "cell_type": "markdown",
   "metadata": {},
   "source": [
    "### Deploy L7 Load Balancer"
   ]
  },
  {
   "cell_type": "code",
   "execution_count": null,
   "metadata": {},
   "outputs": [],
   "source": [
    "gcloud compute url-maps create gcp-map --default-service gcp-map-backend-service --project=$PROJECT_ID\n",
    "\n",
    "gcloud compute url-maps add-path-matcher gcp-map --path-matcher-name=gcp \\\n",
    "    --default-service gcp-map-backend-service --project=$PROJECT_ID\n",
    "\n",
    "gcloud compute url-maps add-host-rule gcp-map --hosts=server.domain.com \\\n",
    "    --path-matcher-name=gcp --project=$PROJECT_ID --global \n",
    "\n",
    "gcloud compute url-maps remove-host-rule gcp-map --host=*\n",
    "\n",
    "gcloud compute target-https-proxies create gcp-lb-proxy --url-map=gcp-map \\\n",
    "    --ssl-certificates=gcp-cert --global  --project=$PROJECT_ID\n",
    " \n",
    "gcloud compute forwarding-rules create gcp-content-rule --address $ADDRESS \\\n",
    "    --global --target-https-proxy gcp-lb-proxy --ports 443  --project=$PROJECT_ID\n"
   ]
  },
  {
   "cell_type": "markdown",
   "metadata": {},
   "source": [
    "Let's have a look at this in the Google Clound Console:\n",
    "![alt](https://github.com/Hermi999/bce/blob/master/img/vm_lb.png?raw=true)"
   ]
  },
  {
   "cell_type": "raw",
   "metadata": {},
   "source": [
    "# Test L7 Configuration\n",
    "Before you continue wait 5-10 min...\n",
    "\n",
    "Now invoke the new endpoint with curl:"
   ]
  },
  {
   "cell_type": "code",
   "execution_count": null,
   "metadata": {},
   "outputs": [],
   "source": [
    "cd ~/bce/certs\n",
    "curl --cacert server_crt.pem -w \"%{http_code}\\n\" \\\n",
    "     --resolve server.domain.com:$ADDRESS https://server.domain.com/"
   ]
  },
  {
   "cell_type": "markdown",
   "metadata": {},
   "source": [
    "You should see the __\"Welcome to nginx!\"__ html and the status code 200 at the end.\n",
    "This means that anyone can connect to the website. Now let's protect it with IAP."
   ]
  },
  {
   "cell_type": "markdown",
   "metadata": {},
   "source": [
    "### Create a new Oauth Client and Enable IAP\n",
    "\n",
    "(https://cloud.google.com/iap/docs/programmatic-oauth-clients#creating_an_oauth_client)\n",
    "\n",
    "You configure one OAuth client per app."
   ]
  },
  {
   "cell_type": "code",
   "execution_count": null,
   "metadata": {},
   "outputs": [],
   "source": [
    "BRAND=$(gcloud alpha iap oauth-brands list --format=\"value(name)\")\n",
    "CLIENT_NAME=iap-gce\n",
    "gcloud alpha iap oauth-clients create $BRAND --display_name=$CLIENT_NAME"
   ]
  },
  {
   "cell_type": "markdown",
   "metadata": {},
   "source": [
    "The next step we can not (yet) do from the console with the gcloud client. You need to insert the Client id and client secret from the previous step, execute the field below and then past the resulting link into a new browser window:"
   ]
  },
  {
   "cell_type": "code",
   "execution_count": null,
   "metadata": {},
   "outputs": [],
   "source": [
    "CLIENT_ID=\n",
    "SECRET=\n",
    "echo \"https://console.cloud.google.com/apis/credentials/oauthclient/$CLIENT_ID?project=$PROJECT_ID\"\n"
   ]
  },
  {
   "cell_type": "markdown",
   "metadata": {},
   "source": [
    "You are now on the Oauth Client page. Execute the next field and add the result as \"Authorized redirect URI\" and click save:"
   ]
  },
  {
   "cell_type": "code",
   "execution_count": null,
   "metadata": {},
   "outputs": [],
   "source": [
    "echo \"https://iap.googleapis.com/v1/oauth/clientIds/$CLIENT_ID:handleRedirect\""
   ]
  },
  {
   "cell_type": "code",
   "execution_count": null,
   "metadata": {},
   "outputs": [],
   "source": [
    "SVC_NAME=gcp-map-backend-service\n",
    "\n",
    "gcloud alpha iap web enable --resource-type=backend-services --oauth2-client-id=$CLIENT_ID \\\n",
    "    --oauth2-client-secret=$SECRET --service $SVC_NAME"
   ]
  },
  {
   "cell_type": "markdown",
   "metadata": {},
   "source": [
    "Your VM-based web app is now protected via IAP!\n",
    "\n",
    "If you've executed the previous chapters then you don't need to do anything further. If not (or if you want to allow other users access) then have a look at the chapter __[Grant access on the app](#Grant-access-on-the-application)__."
   ]
  },
  {
   "cell_type": "code",
   "execution_count": null,
   "metadata": {},
   "outputs": [],
   "source": [
    "echo \"https://$ADDRESS\""
   ]
  },
  {
   "cell_type": "markdown",
   "metadata": {},
   "source": [
    "## Setup BeyondCorp for GKE Apps\n",
    "\n",
    "__[Work in progress]__\n",
    "\n",
    "(https://cloud.google.com/iap/docs/enabling-kubernetes-howto)\n",
    "\n",
    "In this section, you will deploy a GKE Cluster that will run a simple web service.\n",
    "In this flow, the request proceeds as: User -> IAP -> GKE backend\n",
    "\n",
    "__IAP__ is integrated through __Ingress for GKE__.\n",
    "\n",
    "In a GKE cluster, incoming traffic is handled by HTTP(S) Load Balancing. The HTTP(S) load balancer is typically configured by the Kubernetes Ingress controller. The Ingress controller gets configuration information from a Kubernetes Ingress object that is associated with one or more Service objects. Each Service object holds routing information that is used to direct an incoming request to a particular Pod and port.\n",
    "\n",
    "The Kubernetes Ingress controller reads configuration information from the BackendConfig and sets up the load balancer accordingly. A BackendConfig holds configuration information that is specific to Cloud Load Balancing, and enables you to define a separate configuration for each HTTP(S) Load Balancing backend service.\n",
    "\n",
    "We start with setting up a GKE cluster with HTTP(s) Load Balancing via Ingress ([read all details here](https://cloud.google.com/kubernetes-engine/docs/tutorials/http-balancer))\n"
   ]
  },
  {
   "cell_type": "markdown",
   "metadata": {},
   "source": [
    "### Create new GKE cluster"
   ]
  },
  {
   "cell_type": "code",
   "execution_count": null,
   "metadata": {},
   "outputs": [],
   "source": [
    "gcloud config set project $PROJECT_ID\n",
    "gcloud config set compute/zone europe-west1-b\n",
    "CLU_NAME=iap-gke-cluster\n",
    "gcloud container clusters create $CLU_NAME\n",
    "echo \"done\""
   ]
  },
  {
   "cell_type": "markdown",
   "metadata": {},
   "source": [
    "Wait 2-3 minutes.\n",
    "After the cluster is created we can retrieve the credentials to connect via __kubectl__:"
   ]
  },
  {
   "cell_type": "code",
   "execution_count": null,
   "metadata": {},
   "outputs": [],
   "source": [
    "gcloud container clusters get-credentials $CLU_NAME"
   ]
  },
  {
   "cell_type": "markdown",
   "metadata": {},
   "source": [
    "### Create a global static ip for the service"
   ]
  },
  {
   "cell_type": "code",
   "execution_count": null,
   "metadata": {},
   "outputs": [],
   "source": [
    "GKE_IP_NAME=\"iap-gke-ip\"\n",
    "gcloud compute addresses create $GKE_IP_NAME --global\n",
    "GKE_IP=$(gcloud compute addresses describe $GKE_IP_NAME --global --format=\"value(address)\")\n",
    "echo $GKE_IP"
   ]
  },
  {
   "cell_type": "markdown",
   "metadata": {},
   "source": [
    "### Create a SSL Certificate\n",
    "\n",
    "(https://cloud.google.com/kubernetes-engine/docs/concepts/ingress-xlb)\n",
    "\n",
    "(https://cloud.google.com/kubernetes-engine/docs/how-to/ingress-multi-ssl)\n",
    "\n",
    "You can create a self-signed certificate, or if you have a domain you can also use letsencrypt.org.\n",
    "To keep it simple I will show you how to do it with a self-signed certificate."
   ]
  },
  {
   "cell_type": "code",
   "execution_count": null,
   "metadata": {},
   "outputs": [],
   "source": [
    "mkdir ~/bce/certs/\n",
    "cd ~/bce/certs\n",
    "\n",
    "# create self-signed cert\n",
    "openssl req -x509 -newkey rsa:2048 -keyout gke_key.pem -out gke_crt.pem \\\n",
    "    -days 365 -nodes -subj '/CN=gke.domain.com'\n",
    "    \n",
    "gcloud compute ssl-certificates create gke-cert --certificate gke_crt.pem \\\n",
    "    --private-key gke_key.pem"
   ]
  },
  {
   "cell_type": "code",
   "execution_count": null,
   "metadata": {},
   "outputs": [],
   "source": [
    "gcloud compute ssl-certificates list\n",
    "gcloud compute ssl-certificates describe gke-cert"
   ]
  },
  {
   "cell_type": "markdown",
   "metadata": {},
   "source": [
    "### Manipulate /etc/hosts\n",
    "This tutorial we will not configure a real domain and a DNS server to resolve our external IP address. Instead we will later create a self-signed certificate for the domain __server.domain.com__. \n",
    "\n",
    "To resolve server.domain.com from this local JupyterLab VM we will simple add an entry to the /etc/hosts file. We can't do this here in the ipynb notebook, so you need to navigate in the menu bar to \"File\", \"New\", \"Terminal\". \n",
    "\n",
    "Then execute the field below, copy the result and insert it into the new terminal."
   ]
  },
  {
   "cell_type": "code",
   "execution_count": null,
   "metadata": {},
   "outputs": [],
   "source": [
    "echo \"sudo su\"\n",
    "echo \"echo $GKE_IP server.domain.com >> /etc/hosts\"\n",
    "echo \"exit\""
   ]
  },
  {
   "cell_type": "markdown",
   "metadata": {},
   "source": [
    "### Inspect k8s specs\n",
    "Let's see what we will deploy to the cluster:"
   ]
  },
  {
   "cell_type": "code",
   "execution_count": null,
   "metadata": {},
   "outputs": [],
   "source": [
    "cd ~/bce/samples/gke/load-balancing\n",
    "\n",
    "echo \"-----deployment-----\"\n",
    "cat web-deployment.yaml && echo \"-----service-----\"\n",
    "cat web-service.yaml && echo \"-----ingress-----\"\n",
    "cat web-ingress-static.yaml && echo \"-----backend-config-----\"\n",
    "cat web-backend-config.yaml"
   ]
  },
  {
   "cell_type": "markdown",
   "metadata": {},
   "source": [
    "Here a few things you should notice:\n",
    "- The service references the backend-config via an beta.cloud.google.com annotation\n",
    "- The Ingress references a static ip with a kubernetes.io annotation\n",
    "- The Ingress references a pre-shared ssl certificate with an annotation\n",
    "- The Ingress specifies the domain name \n",
    "- The backend-config references a secret (holds the app oauth creds)\n",
    "- The backend-config can enable/disable the IAP. Atm it's disabled."
   ]
  },
  {
   "cell_type": "markdown",
   "metadata": {},
   "source": [
    "### Add static ip name to ingress spec"
   ]
  },
  {
   "cell_type": "code",
   "execution_count": null,
   "metadata": {},
   "outputs": [],
   "source": [
    "sed -i \"s/STATIC_IP_NAME/$GKE_IP_NAME/g\" web-ingress-static.yaml\n",
    "\n",
    "cat web-ingress-static.yaml"
   ]
  },
  {
   "cell_type": "markdown",
   "metadata": {},
   "source": [
    "### Create a new Oauth Client\n",
    "\n",
    "(https://cloud.google.com/iap/docs/programmatic-oauth-clients#creating_an_oauth_client)\n",
    "\n",
    "You configure one OAuth client per app."
   ]
  },
  {
   "cell_type": "code",
   "execution_count": null,
   "metadata": {},
   "outputs": [],
   "source": [
    "BRAND=$(gcloud alpha iap oauth-brands list --format=\"value(name)\")\n",
    "CLIENT_NAME=iap-gke\n",
    "gcloud alpha iap oauth-clients create $BRAND --display_name=$CLIENT_NAME"
   ]
  },
  {
   "cell_type": "markdown",
   "metadata": {},
   "source": [
    "The next step we can not (yet) do from the console with the gcloud client. You need to insert the Client id and client secret from the previous step, execute the field below and then past the resulting link into a new browser window:"
   ]
  },
  {
   "cell_type": "code",
   "execution_count": null,
   "metadata": {},
   "outputs": [],
   "source": [
    "CLIENT_ID=\n",
    "SECRET=\n",
    "echo \"https://console.cloud.google.com/apis/credentials/oauthclient/$CLIENT_ID?project=$PROJECT_ID\""
   ]
  },
  {
   "cell_type": "markdown",
   "metadata": {},
   "source": [
    "You are now on the Oauth Client page. Execute the next field and add the result as \"Authorized redirect URI\" and click save:"
   ]
  },
  {
   "cell_type": "code",
   "execution_count": null,
   "metadata": {},
   "outputs": [],
   "source": [
    "echo \"https://iap.googleapis.com/v1/oauth/clientIds/$CLIENT_ID:handleRedirect\""
   ]
  },
  {
   "cell_type": "markdown",
   "metadata": {},
   "source": [
    "### Create a k8s secret holding the OAuth client id and client secret\n",
    "This secret will be used the the backend-service k8s object."
   ]
  },
  {
   "cell_type": "code",
   "execution_count": null,
   "metadata": {},
   "outputs": [],
   "source": [
    "kubectl create secret generic gke-iap-secret --from-literal=client_id=$CLIENT_ID \\\n",
    "    --from-literal=client_secret=$SECRET"
   ]
  },
  {
   "cell_type": "markdown",
   "metadata": {},
   "source": [
    "### Deploy the k8s resources"
   ]
  },
  {
   "cell_type": "code",
   "execution_count": null,
   "metadata": {},
   "outputs": [],
   "source": [
    "cd ~/bce/samples/gke/load-balancing/\n",
    "kubectl apply -f web-backend-config.yaml\n",
    "kubectl apply -f web-deployment.yaml"
   ]
  },
  {
   "cell_type": "code",
   "execution_count": null,
   "metadata": {},
   "outputs": [],
   "source": [
    "kubectl apply -f web-service.yaml"
   ]
  },
  {
   "cell_type": "code",
   "execution_count": null,
   "metadata": {},
   "outputs": [],
   "source": [
    "kubectl apply -f web-ingress-static.yaml"
   ]
  },
  {
   "cell_type": "markdown",
   "metadata": {},
   "source": [
    "Wait 5-10 min until ingress deployed the load balancer. \n",
    "\n",
    "After a few minutes we can send a request to the static ip and it should respond with __\"Hello, world!\"__"
   ]
  },
  {
   "cell_type": "code",
   "execution_count": null,
   "metadata": {},
   "outputs": [],
   "source": [
    "cd ~/bce/certs\n",
    "ls\n",
    "curl --cacert gke_crt.pem -w \"%{http_code}\\n\" \\\n",
    "     --resolve gke.domain.com:$GKE_IP https://gke.domain.com/"
   ]
  },
  {
   "cell_type": "markdown",
   "metadata": {},
   "source": [
    "You can also open the site via the IP in the browser (you can't open the domain in the browser if you didn't change /etc/hosts/ on your local machine) an ignore the self-signed cert warning:"
   ]
  },
  {
   "cell_type": "code",
   "execution_count": null,
   "metadata": {},
   "outputs": [],
   "source": [
    "echo \"$GKE_IP\""
   ]
  },
  {
   "cell_type": "markdown",
   "metadata": {},
   "source": [
    "### Activate IAP\n",
    "Time to protect our new web app..."
   ]
  },
  {
   "cell_type": "code",
   "execution_count": null,
   "metadata": {},
   "outputs": [],
   "source": [
    "cd ~/bce/samples/gke/load-balancing/\n",
    "sed -i \"s/false/true/g\" web-backend-config.yaml\n",
    "cat web-backend-config.yaml"
   ]
  },
  {
   "cell_type": "code",
   "execution_count": null,
   "metadata": {},
   "outputs": [],
   "source": [
    "kubectl apply -f ."
   ]
  },
  {
   "cell_type": "markdown",
   "metadata": {},
   "source": [
    "After applying the change we need to wait again for a few minutes to see the effect...\n"
   ]
  },
  {
   "cell_type": "code",
   "execution_count": null,
   "metadata": {},
   "outputs": [],
   "source": [
    "cd ~/bce/certs\n",
    "ls\n",
    "curl --cacert gke_crt.pem -w \"%{http_code}\\n\" \\\n",
    "     --resolve gke.domain.com:$GKE_IP https://gke.domain.com/"
   ]
  },
  {
   "cell_type": "markdown",
   "metadata": {},
   "source": [
    "Open the web app in the browser:"
   ]
  },
  {
   "cell_type": "code",
   "execution_count": null,
   "metadata": {},
   "outputs": [],
   "source": [
    "echo \"$GKE_IP\""
   ]
  },
  {
   "cell_type": "markdown",
   "metadata": {},
   "source": [
    "### Reset the changed yaml files (optional)"
   ]
  },
  {
   "cell_type": "code",
   "execution_count": null,
   "metadata": {},
   "outputs": [],
   "source": [
    "sed -i \"s/true/false/g\" web-backend-config.yaml\n",
    "sed -i \"s/$GKE_IP_NAME/STATIC_IP_NAME/g\" web-ingress-static.yaml\n",
    "cat web-backend-config.yaml && echo \"\"\n",
    "cat web-ingress-static.yaml"
   ]
  },
  {
   "cell_type": "markdown",
   "metadata": {},
   "source": [
    "\n",
    "\n",
    "\n",
    "\n"
   ]
  },
  {
   "cell_type": "markdown",
   "metadata": {},
   "source": [
    "## Setup BeyondCorp for __internal__ on-premise Apps\n",
    "\n",
    "__[Work in progress]__\n",
    "\n",
    "You will set up two projects: \n",
    "- one to host IAP and \n",
    "- another that represents your 'onprem' network which you will connect using a VPN tunnel\n",
    "\n",
    "The onprem system will not be exposed externally and will run an apache web server that will represent your __intranet site__. The IAP project will establish a secure connection on the backend to the simulated 'on-prem' network using low level ipsec VPN as well as Cloud VPN.\n",
    "This setup is more complex to set up since this involves establishing a secure backend connection via VPN.\n",
    "In this flow, the request proceeds as: user -> IAP -> IAP Connector -> VPN --> backend\n"
   ]
  },
  {
   "cell_type": "markdown",
   "metadata": {},
   "source": [
    "## Setup BeyondCorp for __external__ on-premise Apps\n",
    "\n",
    "__[Work in progress]__\n",
    "\n",
    "In this section, you will run a VM \"on-prem\" that is __exposed externally__ but one that validates requests authorized by IAP. This mode is for the situation where you would like to use IAP but cannot modify the underlying code to perform IAP's user validation.\n",
    "For this, you will run a simple Envoy on prem that will validate IAP’s headers only. Once validated, the request is allowed to proceed to the backend system.\n",
    "In this flow, the request proceeds as: user -> IAP -> Internet NEG --> backend\n",
    "\n"
   ]
  },
  {
   "cell_type": "markdown",
   "metadata": {},
   "source": [
    "## Setup BeyondCorp for TCP forwarding\n",
    "\n",
    "__[Work in progress]__\n",
    "\n",
    "In this section, you will ...\n"
   ]
  },
  {
   "cell_type": "markdown",
   "metadata": {},
   "source": [
    "## Zero Trust Strategy\n",
    "\n",
    "__[Work in progres...]__\n",
    "\n",
    "In general we have 3 dimensions we care about when implementing BeyondCorp:\n",
    "- What? (The application)\n",
    "- Who? - Who can access the application? (users, groups, services)\n",
    "- When? - In which context can they access the application? (only if ...)\n",
    "\n",
    "It's rather simply to define the applications. E.g.:\n",
    "+ Jira\n",
    "+ Gitlab\n",
    "+ Spinnaker (Prod, Staging, Dev)\n",
    "+ SAP Web UI\n",
    "+ HR System\n",
    "+ Concur\n",
    "+ GSuite\n",
    "+ ...\n",
    "\n",
    "For each of those apps we can now aggregate the different user types into __groups__:\n",
    "+ Admins\n",
    "+ Power Users\n",
    "+ Users\n",
    "\n",
    "We can define these general __context levels__:\n",
    "1. High Trust (Admin access, PII & IP data)\n",
    "2. Medium Trust (Need to know data)\n",
    "3. Low Trust (all other)\n",
    "\n",
    "Now let's vizualize this in a simple table:\n",
    "\n",
    "![alt](https://github.com/Hermi999/bce/blob/master/img/bce_table.png?raw=true)\n",
    "\n",
    "\n",
    "If we want we can turn this table (automatically) into yaml files which we then can use in a CD pipeline for configuring the Identity-aware proxy."
   ]
  }
 ],
 "metadata": {
  "environment": {
   "name": "common-cpu.m59",
   "type": "gcloud",
   "uri": "gcr.io/deeplearning-platform-release/base-cpu:m59"
  },
  "kernelspec": {
   "display_name": "Bash",
   "language": "bash",
   "name": "bash"
  },
  "language_info": {
   "codemirror_mode": "shell",
   "file_extension": ".sh",
   "mimetype": "text/x-sh",
   "name": "bash"
  }
 },
 "nbformat": 4,
 "nbformat_minor": 4
}
