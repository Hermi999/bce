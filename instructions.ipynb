{
 "cells": [
  {
   "cell_type": "markdown",
   "metadata": {},
   "source": [
    "_[Please follow the instructions [here](https://github.com/Hermi999/bce) to see how to properly use this bash-kernel Notebook]_\n",
    "\n",
    "# Beyond Corp Enterprise - Demo\n",
    "\n",
    "The following notebook is used to guide you through setting up Beyond Corp Enterprise (BCE) on Google Cloud Platform (GCP). \n",
    "\n",
    "## Context\n",
    "As more employees work from home, it is important to provide more options for them to securely access internal services and sites.\n",
    "These sites may be your intranet portal, sensitive HR or financial systems that are not exposed directly externally. Traditionally, companies accessed these sites after establishing a VPN tunnel from an employee’s laptop directly to the corporate network. Just about any administrator of such a system will tell you VPNs are expensive to procure, require a lot of resources, quite cumbersome to maintain and essentially provide security based on dynamically expanding the trusted network.\n",
    "\n",
    "At Google, we found the access model based primarily on a network perimeter did not sufficiently scale with a mobile workforce nor provide selective security guarantees for sensitive applications. Our approach was to assess the overall context of a given request for an application. By that we would take signals derived from multiple sources at runtime to evaluate the integrity of a call against the resource being accessed. For example, the evaluation signals for a request would include who is making the call, from what device, from what network, at what time, and so on. A request is not simply evaluated using an administrator defined static if-then chain, but also assigned trust levels based on heuristics inferred from prior contexts.\n",
    "\n",
    "The internal system Google used to achieve this is described in six BeyondCorp research papers which goes into more details about these signals. For our customers we make this same system available as __BeyondCorp Enterprise (BCE).__\n",
    "\n",
    "As you can see on the image below, BCE consists of multiple components:\n",
    "- Cloud Identity\n",
    "- Identity Aware proxy\n",
    "- Google Cloud Load Balancer\n",
    "- Access Context Manager\n",
    "- IAP Connector\n",
    "\n",
    "![BCE](./img/bce.png)"
   ]
  },
  {
   "cell_type": "markdown",
   "metadata": {},
   "source": [
    "## How to use this colab notebook\n",
    "\n",
    "*   If you didn't start at following Github Repository, please start there to see how you can use this bash-kernel based notebook: https://github.com/Hermi999/bce\n",
    "*   **You can use this notebook either as a reference and copy the commands directly into GCP Cloud Shell, or you use it with a Jupyter Notebook with a bash kernel.**\n",
    "*   If you like to execute a block use STRG+ENTER\n",
    "*   If you just want to run highlighted commands use STRG+SHIFT+ENTER"
   ]
  },
  {
   "cell_type": "markdown",
   "metadata": {},
   "source": [
    "## Getting ready\n",
    "Let's try it out by checking the version of the gcloud sdk. Click into the next line and press STRG+ENTER"
   ]
  },
  {
   "cell_type": "code",
   "execution_count": 1,
   "metadata": {},
   "outputs": [
    {
     "name": "stdout",
     "output_type": "stream",
     "text": [
      "Google Cloud SDK 317.0.0\n",
      "alpha 2020.10.30\n",
      "beta 2020.10.30\n",
      "bq 2.0.62\n",
      "core 2020.10.30\n",
      "gsutil 4.54\n",
      "kubectl 1.16.13\n"
     ]
    }
   ],
   "source": [
    "gcloud version"
   ]
  },
  {
   "cell_type": "markdown",
   "metadata": {},
   "source": [
    "We do not need to authenticate ourselfs to run gcloud commands. It automatically uses the Compute Engine Service Account which was copied onto the VM during creation.\n",
    "\n",
    "You can check this by running the command:"
   ]
  },
  {
   "cell_type": "code",
   "execution_count": 2,
   "metadata": {},
   "outputs": [
    {
     "name": "stdout",
     "output_type": "stream",
     "text": [
      "                       Credentialed Accounts\n",
      "ACTIVE  ACCOUNT\n",
      "*       bce-project-editor@hewagner-demos-2.iam.gserviceaccount.com\n",
      "\n",
      "To set the active account, run:\n",
      "    $ gcloud config set account `ACCOUNT`\n",
      "\n"
     ]
    }
   ],
   "source": [
    "gcloud auth list"
   ]
  },
  {
   "cell_type": "markdown",
   "metadata": {},
   "source": [
    "This Service Account should have all necessary rights to proceed."
   ]
  },
  {
   "cell_type": "markdown",
   "metadata": {},
   "source": [
    "We also double check if we are in the right project:"
   ]
  },
  {
   "cell_type": "code",
   "execution_count": 3,
   "metadata": {},
   "outputs": [
    {
     "name": "stdout",
     "output_type": "stream",
     "text": [
      "PROJECT_ID        NAME              PROJECT_NUMBER\n",
      "hewagner-demos-2  hewagner-demos-2  1023990209690\n"
     ]
    }
   ],
   "source": [
    "gcloud projects list"
   ]
  },
  {
   "cell_type": "markdown",
   "metadata": {},
   "source": [
    "If the project is wrong you can set your project with 'gcloud config set project [project_name]."
   ]
  },
  {
   "cell_type": "markdown",
   "metadata": {},
   "source": [
    "## Deploy a first sample application\n",
    "We start with a first sample application on GCP. \n",
    "For this we will use the __App Engine__, which was the first GCP service (2008) and is a PaaS for hosting web applications. \n",
    "\n",
    "Our Git repository we cloned onto this machine contains an App Engine sample code. "
   ]
  },
  {
   "cell_type": "code",
   "execution_count": 4,
   "metadata": {},
   "outputs": [
    {
     "name": "stdout",
     "output_type": "stream",
     "text": [
      "app.yaml  main.py  main_test.py\n"
     ]
    }
   ],
   "source": [
    "cd ~/bce/samples/appengine\n",
    "ls"
   ]
  },
  {
   "cell_type": "markdown",
   "metadata": {},
   "source": [
    "Now we can deploy the simple sample to App Engine:"
   ]
  },
  {
   "cell_type": "code",
   "execution_count": 14,
   "metadata": {},
   "outputs": [
    {
     "name": "stdout",
     "output_type": "stream",
     "text": [
      "You are creating an app for project [hewagner-demos-2].\n",
      "\u001b[1;33mWARNING:\u001b[0m Creating an App Engine application for a project is irreversible and the region\n",
      "cannot be changed. More information about regions is at\n",
      "<https://cloud.google.com/appengine/docs/locations>.\n",
      "\n",
      "\u001b[1;31mERROR:\u001b[0m (gcloud.app.create) The project [hewagner-demos-2] already contains an App Engine application. You can deploy your application using `gcloud app deploy`.\n"
     ]
    },
    {
     "ename": "",
     "evalue": "1",
     "output_type": "error",
     "traceback": []
    }
   ],
   "source": [
    "gcloud app create --region=europe-west3"
   ]
  },
  {
   "cell_type": "markdown",
   "metadata": {},
   "source": [
    "Wait until you see the message gcloud app browse"
   ]
  },
  {
   "cell_type": "code",
   "execution_count": 18,
   "metadata": {},
   "outputs": [
    {
     "name": "stdout",
     "output_type": "stream",
     "text": [
      "Services to deploy:\n",
      "\n",
      "descriptor:      [/home/jupyter/bce/samples/appengine/app.yaml]\n",
      "source:          [/home/jupyter/bce/samples/appengine]\n",
      "target project:  [hewagner-demos-2]\n",
      "target service:  [default]\n",
      "target version:  [20201110t190726]\n",
      "target url:      [https://hewagner-demos-2.ey.r.appspot.com]\n",
      "\n",
      "\n",
      "Beginning deployment of service [default]...\n",
      "╔════════════════════════════════════════════════════════════╗\n",
      "╠═ Uploading 0 files to Google Cloud Storage                ═╣\n",
      "╚════════════════════════════════════════════════════════════╝\n",
      "File upload done.\n",
      "Updating service [default]...done.                                             \n",
      "Setting traffic split for service [default]...done.                            \n",
      "Deployed service [default] to [https://hewagner-demos-2.ey.r.appspot.com]\n",
      "\n",
      "You can stream logs from the command line by running:\n",
      "  $ gcloud app logs tail -s default\n",
      "\n",
      "To view your application in the web browser run:\n",
      "  $ gcloud app browse\n"
     ]
    }
   ],
   "source": [
    "gcloud app deploy --quiet"
   ]
  },
  {
   "cell_type": "code",
   "execution_count": 19,
   "metadata": {},
   "outputs": [
    {
     "name": "stdout",
     "output_type": "stream",
     "text": [
      "Did not detect your browser. Go to this link to view your app:\n",
      "https://hewagner-demos-2.ey.r.appspot.com\n"
     ]
    }
   ],
   "source": [
    "gcloud app browse"
   ]
  },
  {
   "cell_type": "markdown",
   "metadata": {},
   "source": [
    "When you follow the link you should see an empty website with a simple sign in link.\n",
    "Now that we have our app running it's time to secure it with Identity-aware proxy.\n",
    "\n",
    "## Configure OAuth \n",
    "### The Consent Screen (=Brand)\n",
    "(https://cloud.google.com/iap/docs/programmatic-oauth-clients)\n",
    "\n",
    "Because IAP accesses Google users’ data (email address) you need to configure the OAuth.\n",
    "This needs to be done once per GCP Project. Typically you manage multiple on-prem or AWS/Azure web apps from the same projects, so it only need to be done rearily. \n",
    "\n",
    "The OAuth consent screen, which contains branding information for users, is known as a brand. Brands can be limited to internal users or public users. An __internal brand__ makes the OAuth flow accessible to someone who belongs to the same Google Workspace organization as the project. A __public brand__ makes the OAuth flow available to anyone on the internet. There is only one brand per GCP project.\n",
    "\n",
    "OAuth API verification is a little bit difficult to understand - read more about it here: https://support.google.com/cloud/answer/9110914\n",
    "\n",
    "Let's create our brand:"
   ]
  },
  {
   "cell_type": "code",
   "execution_count": 21,
   "metadata": {},
   "outputs": [
    {
     "name": "stdout",
     "output_type": "stream",
     "text": [
      "\u001b[1;31mERROR:\u001b[0m (gcloud.alpha.iap.oauth-brands.create) Resource in projects [hewagner-demos-2] is the subject of a conflict: Requested entity already exists\n"
     ]
    },
    {
     "ename": "",
     "evalue": "1",
     "output_type": "error",
     "traceback": []
    }
   ],
   "source": [
    "APP_TITLE=IAP_TEST\n",
    "SUPPORT_EMAIL=hewagner@google.com\n",
    "\n",
    "gcloud alpha iap oauth-brands create --application_title=$APP_TITLE --support_email=$SUPPORT_EMAIL"
   ]
  },
  {
   "cell_type": "markdown",
   "metadata": {},
   "source": [
    "The support email displayed on the OAuth consent screen. This email address can either be a user's address or a Google Groups alias.\n",
    "\n",
    "Now we can list our new brand and extract the Brand-ID:"
   ]
  },
  {
   "cell_type": "code",
   "execution_count": 31,
   "metadata": {},
   "outputs": [
    {
     "name": "stdout",
     "output_type": "stream",
     "text": [
      "---\n",
      "applicationTitle: Traffic Director Test\n",
      "name: projects/1023990209690/brands/1023990209690\n",
      "supportEmail: hewagner@google.com\n",
      "BRAND: projects/1023990209690/brands/1023990209690\n"
     ]
    }
   ],
   "source": [
    "gcloud alpha iap oauth-brands list\n",
    "BRAND=$(gcloud alpha iap oauth-brands list --format=\"value(name)\")\n",
    "\n",
    "echo \"BRAND: $BRAND\""
   ]
  },
  {
   "cell_type": "markdown",
   "metadata": {},
   "source": [
    "### The OAuth Client\n",
    "(https://cloud.google.com/iap/docs/programmatic-oauth-clients#creating_an_oauth_client)\n",
    "\n",
    "Now we create our OAuth Client for the IAP. You configure one OAuth client per app."
   ]
  },
  {
   "cell_type": "code",
   "execution_count": 35,
   "metadata": {},
   "outputs": [
    {
     "name": "stdout",
     "output_type": "stream",
     "text": [
      "\u001b[1;31mERROR:\u001b[0m (gcloud.alpha.iap.oauth-clients.create) FAILED_PRECONDITION: Precondition check failed.\n"
     ]
    },
    {
     "ename": "",
     "evalue": "1",
     "output_type": "error",
     "traceback": []
    }
   ],
   "source": [
    "CLIENT_NAME=iap\n",
    "PROJECT_ID=$(gcloud config get-value core/project)\n",
    "\n",
    "gcloud alpha iap oauth-clients create $BRAND --display_name=$CLIENT_NAME\n",
    "#gcloud alpha iap oauth-clients create projects/$PROJECT_ID/brands/1023990209690 --display_name=NAME"
   ]
  },
  {
   "cell_type": "markdown",
   "metadata": {},
   "source": [
    "Be aware that it's only possible to create oauth clients via gcloud if the brand is __internal__. Otherwise you have to use the GUI.\n",
    "\n",
    "Now we enable IAP for the web service. Fill in the client_id and secret from the previous step:"
   ]
  },
  {
   "cell_type": "code",
   "execution_count": 37,
   "metadata": {},
   "outputs": [
    {
     "name": "stdout",
     "output_type": "stream",
     "text": [
      "Waiting for operation [apps/hewagner-demos-2/operations/1a9718ae-3473-4cb6-a769\n",
      "-1832f9e303de] to complete...done.                                             \n",
      "done: true\n",
      "metadata:\n",
      "  '@type': type.googleapis.com/google.appengine.v1.OperationMetadataV1\n",
      "  endTime: '2020-11-10T20:19:45.406Z'\n",
      "  insertTime: '2020-11-10T20:19:43.984Z'\n",
      "  method: google.appengine.v1.Applications.UpdateApplication\n",
      "  target: apps/hewagner-demos-2\n",
      "  user: bce-project-editor@hewagner-demos-2.iam.gserviceaccount.com\n",
      "name: apps/hewagner-demos-2/operations/1a9718ae-3473-4cb6-a769-1832f9e303de\n",
      "response:\n",
      "  '@type': type.googleapis.com/google.appengine.v1.Application\n",
      "  authDomain: gmail.com\n",
      "  codeBucket: staging.hewagner-demos-2.appspot.com\n",
      "  databaseType: CLOUD_DATASTORE_COMPATIBILITY\n",
      "  defaultBucket: hewagner-demos-2.appspot.com\n",
      "  defaultHostname: hewagner-demos-2.ey.r.appspot.com\n",
      "  featureSettings:\n",
      "    splitHealthChecks: true\n",
      "    useContainerOptimizedOs: true\n",
      "  gcrDomain: eu.gcr.io\n",
      "  iap:\n",
      "    enabled: true\n",
      "    oauth2ClientId: 1023990209690-io3jg48fe7djn7pb67fjmehaofh9h2ff.apps.googleusercontent.com\n",
      "    oauth2ClientSecretSha256: 31ef8a10332e0db0cdcd413837a511c28594eba280e504f1d1a081a8d1872fd7\n",
      "  id: hewagner-demos-2\n",
      "  locationId: europe-west3\n",
      "  name: apps/hewagner-demos-2\n",
      "  servingStatus: SERVING\n"
     ]
    }
   ],
   "source": [
    "CLIENT_ID=\n",
    "SECRET=\n",
    "gcloud alpha iap web enable --resource-type=app-engine --oauth2-client-id=$CLIENT_ID --oauth2-client-secret=$SECRET"
   ]
  },
  {
   "cell_type": "markdown",
   "metadata": {},
   "source": [
    "Now we have activated IAP for the App Engine App. This means that we do not have access any more..."
   ]
  },
  {
   "cell_type": "code",
   "execution_count": 38,
   "metadata": {},
   "outputs": [
    {
     "name": "stdout",
     "output_type": "stream",
     "text": [
      "Did not detect your browser. Go to this link to view your app:\n",
      "https://hewagner-demos-2.ey.r.appspot.com\n"
     ]
    }
   ],
   "source": [
    "gcloud app browse"
   ]
  },
  {
   "cell_type": "markdown",
   "metadata": {},
   "source": [
    "## Creating access levels"
   ]
  },
  {
   "cell_type": "markdown",
   "metadata": {},
   "source": [
    "## Grant access on the application\n",
    "The last step is to grant access to the protected app. \n",
    "We can do this on an individual user or group level and grant access to just a single app or to all apps in the whole project. First let's add yourself:"
   ]
  },
  {
   "cell_type": "code",
   "execution_count": 41,
   "metadata": {},
   "outputs": [
    {
     "name": "stdout",
     "output_type": "stream",
     "text": [
      "Updated IAM policy for project [projects/1023990209690/iap_web].\n"
     ]
    }
   ],
   "source": [
    "USER=\"h@hewagner.com\"\n",
    "gcloud iap web add-iam-policy-binding --member=\"user:$USER\" --role='roles/iap.httpsResourceAccessor'"
   ]
  },
  {
   "cell_type": "markdown",
   "metadata": {},
   "source": [
    "Wait about a minute and try to access the web app url:"
   ]
  },
  {
   "cell_type": "code",
   "execution_count": 42,
   "metadata": {},
   "outputs": [
    {
     "name": "stdout",
     "output_type": "stream",
     "text": [
      "Did not detect your browser. Go to this link to view your app:\n",
      "https://hewagner-demos-2.ey.r.appspot.com\n"
     ]
    }
   ],
   "source": [
    "gcloud app browse"
   ]
  },
  {
   "cell_type": "markdown",
   "metadata": {},
   "source": [
    "You should see a welcome message and your email address."
   ]
  },
  {
   "cell_type": "markdown",
   "metadata": {},
   "source": [
    "## GCP Console\n",
    "Of course you can also create and view everything we just did in a GUI (GCP Console). It should look similar to this:\n",
    "![alt](img/iap.png)\n",
    "\n",
    "Here are the links to have a look for yourself:"
   ]
  },
  {
   "cell_type": "code",
   "execution_count": 47,
   "metadata": {},
   "outputs": [
    {
     "name": "stdout",
     "output_type": "stream",
     "text": [
      "https://console.cloud.google.com/security/iap?project=hewagner-demos-2\n",
      "https://console.cloud.google.com/security/access-level?orgonly=true&organizationId=834642112511\n"
     ]
    }
   ],
   "source": [
    "PROJECT_ID=$(gcloud config get-value core/project)\n",
    "ORG_ID=$(gcloud projects describe hewagner-demos-2 --format=\"value(parent.id)\")\n",
    "echo \"https://console.cloud.google.com/security/iap?project=$PROJECT_ID\"\n",
    "echo \"https://console.cloud.google.com/security/access-level?orgonly=true&organizationId=$ORG_ID\""
   ]
  }
 ],
 "metadata": {
  "environment": {
   "name": "common-cpu.m59",
   "type": "gcloud",
   "uri": "gcr.io/deeplearning-platform-release/base-cpu:m59"
  },
  "kernelspec": {
   "display_name": "Bash",
   "language": "bash",
   "name": "bash"
  },
  "language_info": {
   "codemirror_mode": "shell",
   "file_extension": ".sh",
   "mimetype": "text/x-sh",
   "name": "bash"
  }
 },
 "nbformat": 4,
 "nbformat_minor": 4
}
