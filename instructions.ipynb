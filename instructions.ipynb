{
 "cells": [
  {
   "cell_type": "markdown",
   "metadata": {},
   "source": [
    "_[Please follow the instructions [here](https://github.com/Hermi999/bce) to see how to properly use this bash-kernel Notebook]_\n",
    "\n",
    "# Beyond Corp - Walkthrough\n",
    "\n",
    "The following notebook is used to guide you through setting up Beyond Corp on Google Cloud Platform (GCP). \n",
    "\n",
    "## Context\n",
    "As more employees work from home, it is important to provide more options for them to securely access internal services and sites.\n",
    "These sites may be your intranet portal, sensitive HR or financial systems that are not exposed directly externally. Traditionally, companies accessed these sites after establishing a VPN tunnel from an employee’s laptop directly to the corporate network. Just about any administrator of such a system will tell you VPNs are expensive to procure, require a lot of resources, quite cumbersome to maintain and essentially provide security based on dynamically expanding the trusted network.\n",
    "\n",
    "At Google, we found the access model based primarily on a network perimeter did not sufficiently scale with a mobile workforce nor provide selective security guarantees for sensitive applications. Our approach was to assess the overall context of a given request for an application. By that we would take signals derived from multiple sources at runtime to evaluate the integrity of a call against the resource being accessed. For example, the evaluation signals for a request would include who is making the call, from what device, from what network, at what time, and so on. A request is not simply evaluated using an administrator defined static if-then chain, but also assigned trust levels based on heuristics inferred from prior contexts.\n",
    "\n",
    "The internal system Google used to achieve this is described in six BeyondCorp research papers which goes into more details about these signals. For our customers we make this same system available as __BeyondCorp (BCE).__\n",
    "\n",
    "As you can see on the image below, BCE consists of multiple components:\n",
    "- Cloud Identity\n",
    "- Identity Aware proxy\n",
    "- Google Cloud Load Balancer\n",
    "- Access Context Manager\n",
    "- IAP Connector\n",
    "\n",
    "![BCE](./img/bce.png)"
   ]
  },
  {
   "cell_type": "markdown",
   "metadata": {},
   "source": [
    "## How to use this colab notebook\n",
    "\n",
    "*   If you didn't start at following Github Repository, please start there to see how you can use this bash-kernel based notebook: https://github.com/Hermi999/bce\n",
    "*   **You can use this notebook either as a reference and copy the commands directly into GCP Cloud Shell, or you use it with a Jupyter Notebook with a bash kernel.**\n",
    "*   If you like to execute a block use STRG+ENTER\n",
    "*   If you just want to run highlighted commands use STRG+SHIFT+ENTER"
   ]
  },
  {
   "cell_type": "markdown",
   "metadata": {},
   "source": [
    "## Getting ready\n",
    "Let's try it out by checking the version of the gcloud sdk. Click into the next line and press STRG+ENTER"
   ]
  },
  {
   "cell_type": "code",
   "execution_count": null,
   "metadata": {},
   "outputs": [],
   "source": [
    "gcloud version"
   ]
  },
  {
   "cell_type": "markdown",
   "metadata": {},
   "source": [
    "We do not need to authenticate ourselfs to run gcloud commands. It automatically uses the Compute Engine Service Account which was copied onto the VM during creation.\n",
    "\n",
    "You can check this by running the command:"
   ]
  },
  {
   "cell_type": "code",
   "execution_count": null,
   "metadata": {},
   "outputs": [],
   "source": [
    "gcloud auth list"
   ]
  },
  {
   "cell_type": "markdown",
   "metadata": {},
   "source": [
    "This Service Account should have all necessary rights to proceed."
   ]
  },
  {
   "cell_type": "markdown",
   "metadata": {},
   "source": [
    "We also double check if we are in the right project:"
   ]
  },
  {
   "cell_type": "code",
   "execution_count": null,
   "metadata": {},
   "outputs": [],
   "source": [
    "gcloud projects list"
   ]
  },
  {
   "cell_type": "markdown",
   "metadata": {},
   "source": [
    "If the project is wrong you can set your project with 'gcloud config set project [project_name]."
   ]
  },
  {
   "cell_type": "markdown",
   "metadata": {},
   "source": [
    "## Deploy a first sample application\n",
    "We start with a first sample application on GCP. \n",
    "For this we will use the __App Engine__, which was the first GCP service (2008) and is a PaaS for hosting web applications. \n",
    "\n",
    "Our Git repository we cloned onto this machine contains an App Engine sample code. "
   ]
  },
  {
   "cell_type": "code",
   "execution_count": null,
   "metadata": {},
   "outputs": [],
   "source": [
    "cd ~/bce/samples/appengine\n",
    "ls"
   ]
  },
  {
   "cell_type": "markdown",
   "metadata": {},
   "source": [
    "Now we can deploy the simple sample to App Engine:"
   ]
  },
  {
   "cell_type": "code",
   "execution_count": null,
   "metadata": {},
   "outputs": [],
   "source": [
    "gcloud app create --region=europe-west3"
   ]
  },
  {
   "cell_type": "markdown",
   "metadata": {},
   "source": [
    "Wait until you see the message gcloud app browse"
   ]
  },
  {
   "cell_type": "code",
   "execution_count": null,
   "metadata": {},
   "outputs": [],
   "source": [
    "gcloud app deploy --quiet"
   ]
  },
  {
   "cell_type": "code",
   "execution_count": null,
   "metadata": {},
   "outputs": [],
   "source": [
    "gcloud app browse"
   ]
  },
  {
   "cell_type": "markdown",
   "metadata": {},
   "source": [
    "When you follow the link you should see an empty website with a simple sign in link.\n",
    "Now that we have our app running it's time to secure it with Identity-aware proxy.\n",
    "\n",
    "## Configure OAuth \n",
    "### The Consent Screen (=Brand)\n",
    "(https://cloud.google.com/iap/docs/programmatic-oauth-clients)\n",
    "\n",
    "Because IAP accesses Google users’ data (email address) you need to configure the OAuth.\n",
    "This needs to be done once per GCP Project. Typically you manage multiple on-prem or AWS/Azure web apps from the same projects, so it only need to be done rearily. \n",
    "\n",
    "The OAuth consent screen, which contains branding information for users, is known as a brand. Brands can be limited to internal users or public users. An __internal brand__ makes the OAuth flow accessible to someone who belongs to the same Google Workspace organization as the project. A __public brand__ makes the OAuth flow available to anyone on the internet. There is only one brand per GCP project.\n",
    "\n",
    "OAuth API verification is a little bit difficult to understand - read more about it here: https://support.google.com/cloud/answer/9110914\n",
    "\n",
    "Let's create our brand:"
   ]
  },
  {
   "cell_type": "code",
   "execution_count": null,
   "metadata": {},
   "outputs": [],
   "source": [
    "APP_TITLE=IAP_TEST\n",
    "SUPPORT_EMAIL=[enter your email]\n",
    "\n",
    "gcloud alpha iap oauth-brands create --application_title=$APP_TITLE --support_email=$SUPPORT_EMAIL"
   ]
  },
  {
   "cell_type": "markdown",
   "metadata": {},
   "source": [
    "The support email displayed on the OAuth consent screen. This email address can either be a user's address or a Google Groups alias.\n",
    "\n",
    "Now we can list our new brand and extract the Brand-ID:"
   ]
  },
  {
   "cell_type": "code",
   "execution_count": null,
   "metadata": {},
   "outputs": [],
   "source": [
    "gcloud alpha iap oauth-brands list\n",
    "BRAND=$(gcloud alpha iap oauth-brands list --format=\"value(name)\")\n",
    "\n",
    "echo \"BRAND: $BRAND\""
   ]
  },
  {
   "cell_type": "markdown",
   "metadata": {},
   "source": [
    "### The OAuth Client\n",
    "(https://cloud.google.com/iap/docs/programmatic-oauth-clients#creating_an_oauth_client)\n",
    "\n",
    "Now we create our OAuth Client for the IAP. You configure one OAuth client per app."
   ]
  },
  {
   "cell_type": "code",
   "execution_count": null,
   "metadata": {},
   "outputs": [],
   "source": [
    "CLIENT_NAME=iap\n",
    "PROJECT_ID=$(gcloud config get-value core/project)\n",
    "\n",
    "gcloud alpha iap oauth-clients create $BRAND --display_name=$CLIENT_NAME\n",
    "#gcloud alpha iap oauth-clients create projects/$PROJECT_ID/brands/1023990209690 --display_name=NAME"
   ]
  },
  {
   "cell_type": "markdown",
   "metadata": {},
   "source": [
    "Be aware that it's only possible to create oauth clients via gcloud if the brand is __internal__. Otherwise you have to use the GUI.\n",
    "\n",
    "Now we enable IAP for the web service. Fill in the client_id and secret from the previous step:"
   ]
  },
  {
   "cell_type": "code",
   "execution_count": null,
   "metadata": {},
   "outputs": [],
   "source": [
    "CLIENT_ID=\n",
    "SECRET=\n",
    "gcloud alpha iap web enable --resource-type=app-engine --oauth2-client-id=$CLIENT_ID --oauth2-client-secret=$SECRET"
   ]
  },
  {
   "cell_type": "markdown",
   "metadata": {},
   "source": [
    "Now we have activated IAP for the App Engine App. This means that we do not have access any more..."
   ]
  },
  {
   "cell_type": "code",
   "execution_count": null,
   "metadata": {},
   "outputs": [],
   "source": [
    "gcloud app browse"
   ]
  },
  {
   "cell_type": "markdown",
   "metadata": {},
   "source": [
    "## Creating access levels\n",
    "https://cloud.google.com/access-context-manager/docs/overview\n",
    "\n",
    "While Identity-Aware Proxy (IAP) lets you manage who has access to your web services, with __Access Context Manager__ you can define __when__ (in which circumstances) the request is allowed. Access Context Manager allows Google Cloud organization administrators to define fine-grained, attribute based access control for projects and resources in Google Cloud.\n",
    "\n",
    "Administrators first define an __access policy__, which is an organization-wide container for __access levels__.\n",
    "Access levels describe the necessary requirements for requests to be honored. Examples include:\n",
    "- Device type and operating system\n",
    "- IP address\n",
    "- User identity\n",
    "- Device Type (you need a BeyondCorp or Cloud Identity Premium license)\n",
    "\n",
    "### Use GitOps for Access Levels\n",
    "We could create access levels via the GCP Console UI, but that's too easy :) Instead we want to set up a GitOps-based approach for our access levels. This makes it easy to track changes and approve changes which can be submitted via a __merge request__."
   ]
  },
  {
   "cell_type": "markdown",
   "metadata": {},
   "source": [
    "#### Create the accss policy\n",
    "First we can [create an access policy](https://cloud.google.com/access-context-manager/docs/create-access-policy) for __Access Context Manager__. 1 Organization can only have 1 access policy:"
   ]
  },
  {
   "cell_type": "code",
   "execution_count": null,
   "metadata": {},
   "outputs": [],
   "source": [
    "POLICY_TITLE=\"my_org_policy\"\n",
    "PROJECT_ID=$(gcloud config get-value core/project)\n",
    "ORG_ID=$(gcloud projects describe $PROJECT_ID --format=\"value(parent.id)\")\n",
    "\n",
    "gcloud access-context-manager policies create --organization $ORG_ID --title $POLICY_TITLE"
   ]
  },
  {
   "cell_type": "markdown",
   "metadata": {},
   "source": [
    "#### Define Access levels\n",
    "\n",
    "https://cloud.google.com/access-context-manager/docs/create-basic-access-level\n",
    "\n",
    "Now let's have a look at the example access context manager __access level policies__ I've prepared for you. For this exercise I just created 2 simple policies:\n",
    "\n",
    "__Low Trust (lowtrust.yaml):__\n",
    "Simply checks if the users accesses the app from one of the following 3 countries: Austria, Italy or Germany.\n",
    "\n",
    "__High Trust (hightrust.yaml):__\n",
    "Build upon the Low Trust policy, but additionally limits access to the CIDR: 80.110.0.0/16"
   ]
  },
  {
   "cell_type": "code",
   "execution_count": 48,
   "metadata": {},
   "outputs": [
    {
     "name": "stdout",
     "output_type": "stream",
     "text": [
      "- ipSubnetworks:\n",
      "  - 0.0.0.0/0\n",
      "- regions:\n",
      "  - IT\n",
      "  - DE\n",
      "  - AT\n"
     ]
    }
   ],
   "source": [
    "cat ~/bce/accesscontextmngr/lowtrust.yaml"
   ]
  },
  {
   "cell_type": "code",
   "execution_count": 49,
   "metadata": {},
   "outputs": [
    {
     "name": "stdout",
     "output_type": "stream",
     "text": [
      "- ipSubnetworks:\n",
      "  - 80.110.0.0/16\n",
      "  requiredAccessLevels:\n",
      "  - accessPolicies/POLICY_ID/accessLevels/Low_Trust\n",
      "\n"
     ]
    }
   ],
   "source": [
    "cat ~/bce/accesscontextmngr/hightrust.yaml"
   ]
  },
  {
   "cell_type": "markdown",
   "metadata": {},
   "source": [
    "I also included a more complex example which includes specific device policies. We will not use this for our exercise here because you need to have a BeyondCorp license or Cloud Identity Premium. Still let's have a closer look at it:"
   ]
  },
  {
   "cell_type": "code",
   "execution_count": null,
   "metadata": {},
   "outputs": [],
   "source": [
    "cat ~/bce/accesscontextmngr/complex.yaml"
   ]
  },
  {
   "cell_type": "markdown",
   "metadata": {},
   "source": [
    "----------------------------------------------------------------\n",
    "As you can see, the access level policies are easy to create, read and can also be combined.\n",
    "\n",
    "We could now simply apply them with the following gcloud command:\n",
    "````bash\n",
    "gcloud access-context-manager levels create ...\n",
    "````\n",
    "\n",
    "But we don't do this now because we want to set up a Gitops-based pipeline to automatically deploy new access levels whenever the admin commits them to a git repository....\n",
    "\n",
    "If you still want to try already (because you can't wait) it out here are the commands:"
   ]
  },
  {
   "cell_type": "code",
   "execution_count": 50,
   "metadata": {},
   "outputs": [
    {
     "name": "stdout",
     "output_type": "stream",
     "text": [
      "Create request issued for: [Low_Trust]\n",
      "Waiting for operation [operations/accessPolicies/1082987218928/accessLevels/Low\n",
      "_Trust/create/1605400992768540] to complete...done.                            \n",
      "Created level [Low_Trust].\n",
      "Create request issued for: [High_Trust]\n",
      "Waiting for operation [operations/accessPolicies/1082987218928/accessLevels/Hig\n",
      "h_Trust/create/1605400998417291] to complete...done.                           \n",
      "Created level [High_Trust].\n",
      "https://console.cloud.google.com/security/access-level?organizationId=834642112511\n"
     ]
    }
   ],
   "source": [
    "ORG_ID=$(gcloud projects describe $PROJECT_ID --format=\"value(parent.id)\")\n",
    "POLICY_NAME=$(gcloud access-context-manager policies list --organization=$ORG_ID --format=\"value(NAME)\")\n",
    "cd ~/bce/accesscontextmngr\n",
    "gcloud access-context-manager levels create \"Low_Trust\" --basic-level-spec=lowtrust.yaml --combine-function=OR --policy=$POLICY_NAME --title=\"Low Trust\"\n",
    "# replace POLICY_ID with actual ID of the policy\n",
    "sed \"s/POLICY_ID/$POLICY_NAME/g\" hightrust.yaml > hightrust2.yaml\n",
    "gcloud access-context-manager levels create \"High_Trust\" --basic-level-spec=hightrust2.yaml --combine-function=OR --policy=$POLICY_NAME --title=\"High Trust\"\n",
    "\n",
    "# UI\n",
    "echo \"https://console.cloud.google.com/security/access-level?organizationId=$ORG_ID\""
   ]
  },
  {
   "cell_type": "markdown",
   "metadata": {},
   "source": [
    "In the UI it will look something like this:\n",
    "![](img/accesscontextmanager.png)\n",
    "\n",
    "We can also export all access level policies, change them and then re-import them again:"
   ]
  },
  {
   "cell_type": "code",
   "execution_count": null,
   "metadata": {},
   "outputs": [],
   "source": [
    "# Export all\n",
    "gcloud access-context-manager levels list --policy $POLICY_NAME --format=json > all.json"
   ]
  },
  {
   "cell_type": "markdown",
   "metadata": {},
   "source": [
    "Now you can open and modify the file...\n",
    "\n",
    "... And then re-import all access level policies:"
   ]
  },
  {
   "cell_type": "code",
   "execution_count": null,
   "metadata": {},
   "outputs": [],
   "source": [
    "gcloud access-context-manager levels replace-all $POLICY_NAME --source-file=all.json"
   ]
  },
  {
   "cell_type": "markdown",
   "metadata": {},
   "source": [
    "If you created the access policies, let's clean up again:"
   ]
  },
  {
   "cell_type": "code",
   "execution_count": null,
   "metadata": {},
   "outputs": [],
   "source": [
    "gcloud access-context-manager levels delete \"High_Trust\" --policy=$POLICY_NAME -q\n",
    "gcloud access-context-manager levels delete \"Low_Trust\" --policy=$POLICY_NAME -q"
   ]
  },
  {
   "cell_type": "markdown",
   "metadata": {},
   "source": [
    "#### Prepare Cloud Build file\n",
    "Now that we know how to deploy, update and delete access level policies, let's put those commands into a file so that we can use it for an automated deployment via a Gitops-based approach.\n",
    "\n",
    "While it's pretty straight forward to use gcloud to create, update and delete level policies, we have to think on how we can elegantly resolve levels which depend on each other. When we look at the hightrust.yaml file, we can see that the reference to the lowtrust level contains the policy ID:\n",
    "\n",
    "````bash\n",
    "...\n",
    "requiredAccessLevels:\n",
    "  - accessPolicies/POLICY_ID/accessLevels/Low_Trust\n",
    "````\n",
    "\n",
    "Now we could hard-code the Policy ID into our yaml files, but it's better to dynamically replace it before deploying the yaml to the environment. This makes sure that we don't need to adapt all our policy files when we use for another policy ID.\n",
    "\n",
    "Another problem is that the the level yaml spec files can't include the \"name\", \"title\", \"description\" and \"combine function\" and that we need to provide this information via the _gcloud access-context-manager levels create_ command. --> The question is how/where we can store this information in Git? \n",
    "\n",
    "For the moment (maybe there will be improvement of Context-aware access in future) it seems like we need to put this information into our yaml files and parse and remove this information before deploying with _gcloud access-context-manager levels create_. Interestingly, when we show an existing level policy with  __gcloud access-context-manager levels describe__ the level policy is already shown in a format containing the above mentioned attributes: \n",
    "\n",
    "````bash\n",
    "basic:\n",
    "  combiningFunction: OR\n",
    "  conditions:\n",
    "  - ipSubnetworks:\n",
    "    - 0.0.0.0/0\n",
    "  - regions:\n",
    "    - IT\n",
    "    - DE\n",
    "    - AT\n",
    "description: Low Trust Access Level\n",
    "name: accessPolicies/1082987218928/accessLevels/Low_Trust\n",
    "title: Low Trust\n",
    "````\n",
    "\n",
    "But atm we can't re-import an access level exported via the describe command (at least not that I know of). Still we can use exactly this format (maybe it's later possible to import directly using this format) to store our access levels and then render them into the format which is necessary at the moment + the corresponding gcloud command. The yaml above will turn into:\n",
    "\n",
    "````bash\n",
    "- ipSubnetworks:\n",
    "  - 0.0.0.0/0\n",
    "- regions:\n",
    "  - IT\n",
    "  - DE\n",
    "  - AT\n",
    "````\n",
    "\n",
    "AND the following gcloud commands:\n",
    "\n",
    "````bash\n",
    "gcloud access-context-manager levels create accessPolicies/1082987218928/accessLevels/Low_Trust --basic-level-spec=lowtrust.yaml --combine-function=OR --title=\"Low Trust\" --description=\"Low Trust access level\"\n",
    "\n",
    "gcloud access-context-manager levels update accessPolicies/1082987218928/accessLevels/Low_Trust --basic-level-spec=lowtrust.yaml --combine-function=OR --title=\"Low Trust\" --description=\"Low Trust access level\"\n",
    "\n",
    "````\n",
    "\n",
    "...\n",
    "\n",
    "..."
   ]
  },
  {
   "cell_type": "markdown",
   "metadata": {},
   "source": [
    "#### Create the Continuious Deployment\n",
    "For simplicity we will use [Cloud Source Repositories](https://cloud.google.com/source-repositories) for setting up our Git-based deployment, but you can use any SCM tool you like (e.g. Bitbucket, Gitlab, Github, etc.).\n",
    "\n",
    "We start with copying the Access Level Config YAML files to a new folder:"
   ]
  },
  {
   "cell_type": "code",
   "execution_count": null,
   "metadata": {},
   "outputs": [],
   "source": [
    "cp -r ~/bce/accesscontextmngr ~"
   ]
  },
  {
   "cell_type": "markdown",
   "metadata": {},
   "source": [
    "Now let's create a new Cloud Source Repository:"
   ]
  },
  {
   "cell_type": "code",
   "execution_count": null,
   "metadata": {},
   "outputs": [],
   "source": [
    "ACM_NAME=\"acm_staging\"\n",
    "gcloud source repos create $ACM_NAME"
   ]
  },
  {
   "cell_type": "markdown",
   "metadata": {},
   "source": [
    "Now we initialize the new Git Repo and push the code from the local Git repository to the Cloud Source Repository we created in the previous step. Replace the __email__ and __name__:"
   ]
  },
  {
   "cell_type": "code",
   "execution_count": null,
   "metadata": {},
   "outputs": [],
   "source": [
    "YOUR_EMAIL=\"h@hewagner.com\"\n",
    "YOUR_NAME=\"Hermann Wagner\"\n",
    "cd ~/accesscontextmngr\n",
    "git init\n",
    "git config --global user.email $YOUR_EMAIL\n",
    "git config --global user.name $YOUR_NAME\n",
    "git add -A\n",
    "git commit -am \"initial commit\""
   ]
  },
  {
   "cell_type": "code",
   "execution_count": null,
   "metadata": {},
   "outputs": [],
   "source": [
    "git config --global credential.https://source.developers.google.com.helper gcloud.sh\n",
    "git remote add google https://source.developers.google.com/p/hewagner-demos-2/r/acm_staging\n",
    "git push --all google"
   ]
  },
  {
   "cell_type": "markdown",
   "metadata": {},
   "source": [
    "If you want you can have a look at it in the browser by opening the following link:"
   ]
  },
  {
   "cell_type": "code",
   "execution_count": null,
   "metadata": {},
   "outputs": [],
   "source": [
    "PROJECT_ID=$(gcloud config get-value core/project)\n",
    "echo \"https://source.cloud.google.com/$PROJECT_ID/$ACM_NAME\""
   ]
  },
  {
   "cell_type": "markdown",
   "metadata": {},
   "source": [
    "![](img/cloudsourcerepo.png)\n",
    "\n",
    "What we want is that every time we do a commit to the master branch, our policies get automatically applied to the access context manager. \n",
    "\n",
    "For this we use [Cloud Build](https://cloud.google.com/cloud-build/) which get's triggered by a commit:"
   ]
  },
  {
   "cell_type": "code",
   "execution_count": null,
   "metadata": {},
   "outputs": [],
   "source": [
    "gcloud beta builds triggers create cloud-source-repositories \\\n",
    "    --repo=$ACM_NAME \\\n",
    "    --branch-pattern=\"master\" \\\n",
    "    --build-config=cloudbuild.yaml"
   ]
  },
  {
   "cell_type": "markdown",
   "metadata": {},
   "source": [
    "Now that we have our trigger we can make a small change and commit the change. This will trigger a new __Cloud build__ which will deploy our access level policies to __Access Context Manager__. \n",
    "\n",
    "Before we trigger the build, let's open Cloud build in the UI to see how it's executing the build once we trigger it:"
   ]
  },
  {
   "cell_type": "code",
   "execution_count": null,
   "metadata": {},
   "outputs": [],
   "source": [
    "PROJECT_ID=$(gcloud config get-value core/project)\n",
    "echo \"https://console.cloud.google.com/cloud-build/builds?project=$PROJECT_ID\""
   ]
  },
  {
   "cell_type": "markdown",
   "metadata": {},
   "source": [
    "After we execute the next step a new entry will appear in the table. You can click on the link in the \"Build\" column."
   ]
  },
  {
   "cell_type": "code",
   "execution_count": null,
   "metadata": {},
   "outputs": [],
   "source": [
    "echo \"new test\">test.yaml\n",
    "git commit -am \"minor change\"\n",
    "git push --all google"
   ]
  },
  {
   "cell_type": "markdown",
   "metadata": {},
   "source": [
    "Here is what you should see in the UI:\n",
    "![](img/cloudbuildhistory.png)"
   ]
  },
  {
   "cell_type": "markdown",
   "metadata": {},
   "source": [
    "When you follow the link you see the details of the build:\n",
    "![](img/cloudbuilddetails.png)"
   ]
  },
  {
   "cell_type": "markdown",
   "metadata": {},
   "source": [
    "## Grant access on the application\n",
    "The last step is to grant access to the protected app. \n",
    "We can do this on an individual user or group level and grant access to just a single app or to all apps in the whole project. First let's add yourself:"
   ]
  },
  {
   "cell_type": "code",
   "execution_count": null,
   "metadata": {},
   "outputs": [],
   "source": [
    "USER=\"h@hewagner.com\"\n",
    "gcloud iap web add-iam-policy-binding --member=\"user:$USER\" --role='roles/iap.httpsResourceAccessor'"
   ]
  },
  {
   "cell_type": "markdown",
   "metadata": {},
   "source": [
    "Wait about a minute and try to access the web app url:"
   ]
  },
  {
   "cell_type": "code",
   "execution_count": null,
   "metadata": {},
   "outputs": [],
   "source": [
    "gcloud app browse"
   ]
  },
  {
   "cell_type": "markdown",
   "metadata": {},
   "source": [
    "You should see a welcome message and your email address."
   ]
  },
  {
   "cell_type": "markdown",
   "metadata": {},
   "source": [
    "## GCP Console\n",
    "Of course you can also create and view everything we just did in a GUI (GCP Console). It should look similar to this:\n",
    "![alt](img/iap.png)\n",
    "\n",
    "Here are the links to have a look for yourself:"
   ]
  },
  {
   "cell_type": "code",
   "execution_count": null,
   "metadata": {},
   "outputs": [],
   "source": [
    "PROJECT_ID=$(gcloud config get-value core/project)\n",
    "ORG_ID=$(gcloud projects describe $PROJECT_ID --format=\"value(parent.id)\")\n",
    "echo \"https://console.cloud.google.com/security/iap?project=$PROJECT_ID\"\n",
    "echo \"https://console.cloud.google.com/security/access-level?orgonly=true&organizationId=$ORG_ID\""
   ]
  }
 ],
 "metadata": {
  "environment": {
   "name": "common-cpu.m59",
   "type": "gcloud",
   "uri": "gcr.io/deeplearning-platform-release/base-cpu:m59"
  },
  "kernelspec": {
   "display_name": "Bash",
   "language": "bash",
   "name": "bash"
  },
  "language_info": {
   "codemirror_mode": "shell",
   "file_extension": ".sh",
   "mimetype": "text/x-sh",
   "name": "bash"
  }
 },
 "nbformat": 4,
 "nbformat_minor": 4
}
